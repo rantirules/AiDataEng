{
  "cells": [
    {
      "cell_type": "markdown",
      "metadata": {
        "id": "view-in-github",
        "colab_type": "text"
      },
      "source": [
        "<a href=\"https://colab.research.google.com/github/rantirules/AiDataEng/blob/main/Content/units/Essentials/7.%20Python%20programming/2.%20Variables/Practicals/0.%20Variable%20Assignment%20%26%20Re-assignment/Practical.ipynb\" target=\"_parent\"><img src=\"https://colab.research.google.com/assets/colab-badge.svg\" alt=\"Open In Colab\"/></a>"
      ]
    },
    {
      "cell_type": "markdown",
      "metadata": {
        "id": "uvyLbYT6sjJi"
      },
      "source": [
        "# Variable Naming"
      ]
    },
    {
      "cell_type": "code",
      "execution_count": 6,
      "metadata": {
        "id": "72fa536b",
        "outputId": "9e96df3b-25c2-400b-e9e6-6ed4d505204a",
        "colab": {
          "base_uri": "https://localhost:8080/"
        }
      },
      "outputs": [
        {
          "output_type": "stream",
          "name": "stdout",
          "text": [
            "Downloading the marking system\n"
          ]
        }
      ],
      "source": [
        "#@title ### Run the following cell to download the necessary files for this practical { display-mode: \"form\" }\n",
        "#@markdown Don't worry about what's in this collapsed cell\n",
        "\n",
        "print('Downloading the marking system')\n",
        "!wget https://s3-eu-west-1.amazonaws.com/aicore-portal-public-prod-307050600709/practical_files/b1b01aef-88ef-4bf8-ab08-d5aa28b9e954/marking_system.py -q -O marking_system.py\n",
        "import marking_system\n",
        "import importlib\n",
        "importlib.reload(marking_system)\n",
        "import sys\n",
        "ipython = get_ipython()\n",
        "def hide_traceback(exc_tuple=None, filename=None, tb_offset=None, exception_only=False, running_compiled_code=False):\n",
        "    etype, value, tb = sys.exc_info()\n",
        "    value.__cause__ = None  # suppress chained exceptions\n",
        "    return ipython._showtraceback(etype, \"❌ \" + f\"\u001b[91m{value}\", ipython.InteractiveTB.get_exception_only(etype, \"❌ \" + f\"\u001b[91m{value}\"))\n",
        "ipython.showtraceback = hide_traceback\n"
      ]
    },
    {
      "cell_type": "markdown",
      "metadata": {
        "id": "dPq2ol05sjJn"
      },
      "source": [
        "### 1: Define a variable called `my_variable` and assign it the value `23`"
      ]
    },
    {
      "cell_type": "code",
      "execution_count": 7,
      "metadata": {
        "id": "oF_EeSlrsjJn"
      },
      "outputs": [],
      "source": [
        "# TODO: Create a variable named my_variable and set it equal to 23\n",
        "my_variable = 23\n"
      ]
    },
    {
      "cell_type": "code",
      "execution_count": 8,
      "metadata": {
        "id": "AUFrX-dssjJo",
        "outputId": "e4fe32f4-3ffc-4def-f2c9-6ce75db39ec7",
        "colab": {
          "base_uri": "https://localhost:8080/"
        }
      },
      "outputs": [
        {
          "output_type": "stream",
          "name": "stdout",
          "text": [
            "\u001b[92m✔ Well done!\n"
          ]
        }
      ],
      "source": [
        "#@title #### Run this cell to check your solution { display-mode: \"form\", run: \"auto\" }\n",
        "\n",
        "assert \"my_variable\" in globals(), \"You haven't defined the variable 'my_variable'.\"\n",
        "\n",
        "marking_system.check_step_1(my_variable)\n"
      ]
    },
    {
      "cell_type": "markdown",
      "metadata": {
        "id": "6VM-bc2psjJo"
      },
      "source": [
        "### 2. Print the value of `my_variable`"
      ]
    },
    {
      "cell_type": "code",
      "execution_count": 9,
      "metadata": {
        "id": "pGUDgrOgsjJo",
        "outputId": "45a8a3dc-47fd-4673-ad66-058167b2932e",
        "colab": {
          "base_uri": "https://localhost:8080/"
        }
      },
      "outputs": [
        {
          "output_type": "stream",
          "name": "stdout",
          "text": [
            "23\n"
          ]
        }
      ],
      "source": [
        "# TODO: Print the value of my_variable using the print function\n",
        "print(my_variable)"
      ]
    },
    {
      "cell_type": "code",
      "execution_count": 10,
      "metadata": {
        "id": "grlTPElGsjJo",
        "outputId": "0353c0d7-49e7-44b6-9ced-7380670d33f0",
        "colab": {
          "base_uri": "https://localhost:8080/"
        }
      },
      "outputs": [
        {
          "output_type": "stream",
          "name": "stdout",
          "text": [
            "\u001b[92m✔ Well done!\n"
          ]
        }
      ],
      "source": [
        "#@title #### Copy and paste your line of code in this form to check your solution { display-mode: \"form\", run: \"auto\" }\n",
        "\n",
        "your_code = \"print(my_variable)\" #@param {type:\"string\"}\n",
        "marking_system.check_step_2(your_code=your_code)\n"
      ]
    },
    {
      "cell_type": "markdown",
      "metadata": {
        "id": "9gm_drQBsjJp"
      },
      "source": [
        "### 3. Write a new line of code that reassigns `my_variable` to have the value `98`"
      ]
    },
    {
      "cell_type": "code",
      "execution_count": 11,
      "metadata": {
        "id": "uGXTC-iIsjJp"
      },
      "outputs": [],
      "source": [
        "# TODO: Create a variable named my_variable and set it equal to 98\n",
        "my_variable = 98"
      ]
    },
    {
      "cell_type": "code",
      "execution_count": 12,
      "metadata": {
        "id": "zujt7fKtsjJp",
        "outputId": "4be2dd1b-67e3-4962-fd08-15fe87aa463a",
        "colab": {
          "base_uri": "https://localhost:8080/"
        }
      },
      "outputs": [
        {
          "output_type": "stream",
          "name": "stdout",
          "text": [
            "\u001b[92m✔ Well done!\n"
          ]
        }
      ],
      "source": [
        "#@title #### Run this cell to check your solution { display-mode: \"form\", run: \"auto\" }\n",
        "\n",
        "assert \"my_variable\" in globals(), \"You haven't defined the variable 'my_variable'.\"\n",
        "\n",
        "marking_system.check_step_3(my_variable)\n"
      ]
    },
    {
      "cell_type": "markdown",
      "metadata": {
        "id": "s5cD2Oz7sjJq"
      },
      "source": [
        "### 4. Print the value of `my_variable` again\n",
        "\n",
        "_Notice that the value of `my_variable` has changed._"
      ]
    },
    {
      "cell_type": "code",
      "execution_count": 13,
      "metadata": {
        "id": "Accsp5KXsjJq",
        "outputId": "8b9f3367-64f8-4dec-c7ca-cf2195ea5cf1",
        "colab": {
          "base_uri": "https://localhost:8080/"
        }
      },
      "outputs": [
        {
          "output_type": "stream",
          "name": "stdout",
          "text": [
            "98\n"
          ]
        }
      ],
      "source": [
        "# TODO: Print the value of my_variable using the print function\n",
        "print(my_variable)"
      ]
    },
    {
      "cell_type": "code",
      "execution_count": 14,
      "metadata": {
        "id": "H5En7BdJsjJq",
        "outputId": "091a8b23-2e7f-41f7-d264-c26cb0df9d4e",
        "colab": {
          "base_uri": "https://localhost:8080/"
        }
      },
      "outputs": [
        {
          "output_type": "stream",
          "name": "stdout",
          "text": [
            "\u001b[92m✔ Well done!\n"
          ]
        }
      ],
      "source": [
        "#@title Copy and paste your line of code in this form to check your solution { display-mode: \"form\", run: \"auto\" }\n",
        "\n",
        "your_code = \"print(my_variable)\" #@param {type:\"string\"}\n",
        "marking_system.check_step_4(your_code=your_code)\n"
      ]
    }
  ],
  "metadata": {
    "kernelspec": {
      "display_name": "content-projects_new",
      "language": "python",
      "name": "python3"
    },
    "language_info": {
      "name": "python",
      "version": "3.10.8"
    },
    "vscode": {
      "interpreter": {
        "hash": "4b961f8166aad6ccb4cf65d0f9c742ef9c6c23ffe83ad932438cd83ed96aebaf"
      }
    },
    "colab": {
      "provenance": [],
      "include_colab_link": true
    }
  },
  "nbformat": 4,
  "nbformat_minor": 0
}
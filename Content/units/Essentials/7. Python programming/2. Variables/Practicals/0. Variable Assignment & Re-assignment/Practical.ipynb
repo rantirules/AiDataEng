{
  "cells": [
    {
      "cell_type": "markdown",
      "metadata": {
        "id": "view-in-github",
        "colab_type": "text"
      },
      "source": [
        "<a href=\"https://colab.research.google.com/github/rantirules/AiDataEng/blob/main/Content/units/Essentials/7.%20Python%20programming/2.%20Variables/Practicals/0.%20Variable%20Assignment%20%26%20Re-assignment/Practical.ipynb\" target=\"_parent\"><img src=\"https://colab.research.google.com/assets/colab-badge.svg\" alt=\"Open In Colab\"/></a>"
      ]
    },
    {
      "cell_type": "markdown",
      "metadata": {
        "id": "vyTqgi-J8QoE"
      },
      "source": [
        "# Variable Naming"
      ]
    },
    {
      "cell_type": "code",
      "execution_count": 1,
      "metadata": {
        "id": "72fa536b",
        "outputId": "7c33a235-0b21-4903-ffcc-f134686f3a57",
        "colab": {
          "base_uri": "https://localhost:8080/"
        }
      },
      "outputs": [
        {
          "output_type": "stream",
          "name": "stdout",
          "text": [
            "Downloading the marking system\n"
          ]
        }
      ],
      "source": [
        "#@title ### Run the following cell to download the necessary files for this practical { display-mode: \"form\" }\n",
        "#@markdown Don't worry about what's in this collapsed cell\n",
        "\n",
        "print('Downloading the marking system')\n",
        "!wget https://s3-eu-west-1.amazonaws.com/aicore-portal-public-prod-307050600709/practical_files/b1b01aef-88ef-4bf8-ab08-d5aa28b9e954/marking_system.py -q -O marking_system.py\n",
        "import marking_system\n",
        "import importlib\n",
        "importlib.reload(marking_system)\n",
        "import sys\n",
        "ipython = get_ipython()\n",
        "def hide_traceback(exc_tuple=None, filename=None, tb_offset=None, exception_only=False, running_compiled_code=False):\n",
        "    etype, value, tb = sys.exc_info()\n",
        "    value.__cause__ = None  # suppress chained exceptions\n",
        "    return ipython._showtraceback(etype, \"❌ \" + f\"\u001b[91m{value}\", ipython.InteractiveTB.get_exception_only(etype, \"❌ \" + f\"\u001b[91m{value}\"))\n",
        "ipython.showtraceback = hide_traceback\n"
      ]
    },
    {
      "cell_type": "markdown",
      "metadata": {
        "id": "0m4pPVKo8QoK"
      },
      "source": [
        "### 1: Define a variable called `my_variable` and assign it the value `23`"
      ]
    },
    {
      "cell_type": "code",
      "execution_count": 2,
      "metadata": {
        "id": "7OS4Ov2E8QoK"
      },
      "outputs": [],
      "source": [
        "# TODO: Create a variable named my_variable and set it equal to 23\n",
        "my_variable = 23"
      ]
    },
    {
      "cell_type": "code",
      "execution_count": 3,
      "metadata": {
        "id": "IdT4eIrg8QoL",
        "outputId": "77763a18-a302-4f61-b8e9-453f109acf48",
        "colab": {
          "base_uri": "https://localhost:8080/"
        }
      },
      "outputs": [
        {
          "output_type": "stream",
          "name": "stdout",
          "text": [
            "\u001b[92m✔ Well done!\n"
          ]
        }
      ],
      "source": [
        "#@title #### Run this cell to check your solution { display-mode: \"form\", run: \"auto\" }\n",
        "\n",
        "assert \"my_variable\" in globals(), \"You haven't defined the variable 'my_variable'.\"\n",
        "\n",
        "marking_system.check_step_1(my_variable)\n"
      ]
    },
    {
      "cell_type": "markdown",
      "metadata": {
        "id": "JiIcfzK78QoL"
      },
      "source": [
        "### 2. Print the value of `my_variable`"
      ]
    },
    {
      "cell_type": "code",
      "execution_count": 4,
      "metadata": {
        "id": "-InZXlNa8QoL",
        "outputId": "d124e9ea-caf5-48d8-a7dd-9723f4a122b2",
        "colab": {
          "base_uri": "https://localhost:8080/"
        }
      },
      "outputs": [
        {
          "output_type": "stream",
          "name": "stdout",
          "text": [
            "23\n"
          ]
        }
      ],
      "source": [
        "# TODO: Print the value of my_variable using the print function\n",
        "print(my_variable)"
      ]
    },
    {
      "cell_type": "code",
      "execution_count": 5,
      "metadata": {
        "id": "TssYxHF88QoL",
        "outputId": "8c4dd136-8943-4d79-d4c3-38e64c1514c4",
        "colab": {
          "base_uri": "https://localhost:8080/"
        }
      },
      "outputs": [
        {
          "output_type": "stream",
          "name": "stdout",
          "text": [
            "\u001b[92m✔ Well done!\n"
          ]
        }
      ],
      "source": [
        "#@title #### Copy and paste your line of code in this form to check your solution { display-mode: \"form\", run: \"auto\" }\n",
        "\n",
        "your_code = \"print(my_variable)\" #@param {type:\"string\"}\n",
        "marking_system.check_step_2(your_code=your_code)\n"
      ]
    },
    {
      "cell_type": "markdown",
      "metadata": {
        "id": "fY-IjpR28QoM"
      },
      "source": [
        "### 3. Write a new line of code that reassigns `my_variable` to have the value `98`"
      ]
    },
    {
      "cell_type": "code",
      "execution_count": 6,
      "metadata": {
        "id": "vF-OIVZF8QoM"
      },
      "outputs": [],
      "source": [
        "# TODO: Create a variable named my_variable and set it equal to 98\n",
        "my_variable = 98"
      ]
    },
    {
      "cell_type": "code",
      "execution_count": 7,
      "metadata": {
        "id": "sNApicdu8QoN",
        "outputId": "1f089354-4473-40ef-818c-429b33f47055",
        "colab": {
          "base_uri": "https://localhost:8080/"
        }
      },
      "outputs": [
        {
          "output_type": "stream",
          "name": "stdout",
          "text": [
            "\u001b[92m✔ Well done!\n"
          ]
        }
      ],
      "source": [
        "#@title #### Run this cell to check your solution { display-mode: \"form\", run: \"auto\" }\n",
        "\n",
        "assert \"my_variable\" in globals(), \"You haven't defined the variable 'my_variable'.\"\n",
        "\n",
        "marking_system.check_step_3(my_variable)\n"
      ]
    },
    {
      "cell_type": "markdown",
      "metadata": {
        "id": "Ihth2hyD8QoO"
      },
      "source": [
        "### 4. Print the value of `my_variable` again\n",
        "\n",
        "_Notice that the value of `my_variable` has changed._"
      ]
    },
    {
      "cell_type": "code",
      "execution_count": 9,
      "metadata": {
        "id": "gDNnkFJL8QoO",
        "outputId": "250cf7a3-f1af-423c-8fd5-6fcf50bb589c",
        "colab": {
          "base_uri": "https://localhost:8080/"
        }
      },
      "outputs": [
        {
          "output_type": "stream",
          "name": "stdout",
          "text": [
            "98\n"
          ]
        }
      ],
      "source": [
        "# TODO: Print the value of my_variable using the print function\n",
        "print(my_variable)"
      ]
    },
    {
      "cell_type": "code",
      "execution_count": 10,
      "metadata": {
        "id": "nedxwsD_8QoO",
        "outputId": "8dda2384-4460-45af-d1bf-cb16b44d5c88",
        "colab": {
          "base_uri": "https://localhost:8080/"
        }
      },
      "outputs": [
        {
          "output_type": "stream",
          "name": "stdout",
          "text": [
            "\u001b[92m✔ Well done!\n"
          ]
        }
      ],
      "source": [
        "#@title Copy and paste your line of code in this form to check your solution { display-mode: \"form\", run: \"auto\" }\n",
        "\n",
        "your_code = \"print(my_variable)\" #@param {type:\"string\"}\n",
        "marking_system.check_step_4(your_code=your_code)\n"
      ]
    }
  ],
  "metadata": {
    "kernelspec": {
      "display_name": "content-projects_new",
      "language": "python",
      "name": "python3"
    },
    "language_info": {
      "name": "python",
      "version": "3.10.8"
    },
    "vscode": {
      "interpreter": {
        "hash": "4b961f8166aad6ccb4cf65d0f9c742ef9c6c23ffe83ad932438cd83ed96aebaf"
      }
    },
    "colab": {
      "provenance": [],
      "include_colab_link": true
    }
  },
  "nbformat": 4,
  "nbformat_minor": 0
}
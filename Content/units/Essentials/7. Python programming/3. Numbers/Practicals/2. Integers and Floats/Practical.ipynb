{
  "cells": [
    {
      "cell_type": "markdown",
      "metadata": {
        "id": "Vqu1U0bDx1QS"
      },
      "source": [
        "# Integers and Floats"
      ]
    },
    {
      "cell_type": "code",
      "execution_count": 1,
      "metadata": {
        "colab": {
          "base_uri": "https://localhost:8080/"
        },
        "id": "1ac0af76",
        "outputId": "940974c2-228d-4761-c0b4-82c21cb6a880"
      },
      "outputs": [
        {
          "output_type": "stream",
          "name": "stdout",
          "text": [
            "Downloading the marking system\n"
          ]
        }
      ],
      "source": [
        "#@title ### Run the following cell to download the necessary files for this practical { display-mode: \"form\" }\n",
        "#@markdown Don't worry about what's in this collapsed cell\n",
        "\n",
        "print('Downloading the marking system')\n",
        "!wget https://s3-eu-west-1.amazonaws.com/aicore-portal-public-prod-307050600709/practical_files/cc9d26e3-cb43-4db4-be73-222e33e2ab3f/marking_system.py -q -O marking_system.py\n",
        "import marking_system\n",
        "import importlib\n",
        "importlib.reload(marking_system)\n",
        "import sys\n",
        "ipython = get_ipython()\n",
        "def hide_traceback(exc_tuple=None, filename=None, tb_offset=None, exception_only=False, running_compiled_code=False):\n",
        "    etype, value, tb = sys.exc_info()\n",
        "    value.__cause__ = None  # suppress chained exceptions\n",
        "    return ipython._showtraceback(etype, \"❌ \" + f\"\u001b[91m{value}\", ipython.InteractiveTB.get_exception_only(etype, \"❌ \" + f\"\u001b[91m{value}\"))\n",
        "ipython.showtraceback = hide_traceback\n"
      ]
    },
    {
      "cell_type": "markdown",
      "metadata": {
        "id": "XFtNJr2Qx1QW"
      },
      "source": [
        "### 1. Define two variables, `a` and `b` and assign them the values `5` and `2` respectively."
      ]
    },
    {
      "cell_type": "code",
      "execution_count": 2,
      "metadata": {
        "id": "K04LcK2Vx1QX"
      },
      "outputs": [],
      "source": [
        "# TODO: Create a variable called 'a' and assign it the value of 5.\n",
        "# TODO: Create a variable called 'b' and assign it the value of 2.\n",
        "a = 5\n",
        "b = 2"
      ]
    },
    {
      "cell_type": "code",
      "execution_count": 3,
      "metadata": {
        "colab": {
          "base_uri": "https://localhost:8080/"
        },
        "id": "hMW2GNoPx1QX",
        "outputId": "2e75df6f-133e-4ad6-9439-8a978f99dcce"
      },
      "outputs": [
        {
          "output_type": "stream",
          "name": "stdout",
          "text": [
            "\u001b[92m✔ Well done! You have successfully assigned values to the variables 'a' and 'b'.\n"
          ]
        }
      ],
      "source": [
        "#@title #### Run this cell to check your solution { display-mode: \"form\", run: \"auto\" }\n",
        "\n",
        "assert \"a\" in globals(), \"You haven't defined the variable 'a'.\"\n",
        "assert \"b\" in globals(), \"You haven't defined the variable 'b'.\"\n",
        "marking_system.check_step_1(a=a, b=b)\n"
      ]
    },
    {
      "cell_type": "markdown",
      "metadata": {
        "id": "LJtiKZYMx1QY"
      },
      "source": [
        "### 2. What is the type of `a` and `b`?"
      ]
    },
    {
      "cell_type": "code",
      "execution_count": 4,
      "metadata": {
        "colab": {
          "base_uri": "https://localhost:8080/"
        },
        "id": "mzG9IB1Fx1QY",
        "outputId": "025b3d6f-07b7-4aef-de5b-e5e9c4b472ec"
      },
      "outputs": [
        {
          "output_type": "execute_result",
          "data": {
            "text/plain": [
              "int"
            ]
          },
          "metadata": {},
          "execution_count": 4
        }
      ],
      "source": [
        "# TODO: Print the type of 'a'.\n",
        "# TODO: Print the type of 'b'.\n",
        "type(a)\n",
        "type(b)"
      ]
    },
    {
      "cell_type": "code",
      "execution_count": 5,
      "metadata": {
        "colab": {
          "base_uri": "https://localhost:8080/"
        },
        "id": "TuLgUw_Tx1QY",
        "outputId": "95f51b11-b1c1-4e6b-a81e-3ee2c2fadef6"
      },
      "outputs": [
        {
          "output_type": "stream",
          "name": "stdout",
          "text": [
            "\u001b[92m✔ Well done! Your answer is correct.\n"
          ]
        }
      ],
      "source": [
        "#@title #### Enter your solution here { display-mode: \"form\", run: \"auto\" }\n",
        "\n",
        "#@markdown What is the type of 'a'?\n",
        "a_type = \"int\" #@param [\"int\", \"str\", \"float\"] {allow-input: true}\n",
        "#@markdown What is the type of 'b'?\n",
        "b_type = \"int\" #@param [\"int\", \"str\", \"float\"] {allow-input: true}\n",
        "marking_system.check_step_2(a_type=a_type, b_type=b_type)\n"
      ]
    },
    {
      "cell_type": "markdown",
      "metadata": {
        "id": "9KwugjqYx1QZ"
      },
      "source": [
        "### 3. Define a variable called `c` and assign it the value of `a / b`\n"
      ]
    },
    {
      "cell_type": "code",
      "execution_count": 6,
      "metadata": {
        "id": "HXdtWgKAx1QZ"
      },
      "outputs": [],
      "source": [
        "# TODO: Create a variable called 'c' and assign it the value of 'a' divided by 'b'.\n",
        "c = a / b"
      ]
    },
    {
      "cell_type": "code",
      "execution_count": 7,
      "metadata": {
        "colab": {
          "base_uri": "https://localhost:8080/"
        },
        "id": "oSV_aL9jx1QZ",
        "outputId": "65a89779-1987-43c3-be6f-73d9d4c49c50"
      },
      "outputs": [
        {
          "output_type": "stream",
          "name": "stdout",
          "text": [
            "\u001b[92m✔ Well done! You have successfully assigned the value of the division of 'a' by 'b' to the variable 'c'.\n"
          ]
        }
      ],
      "source": [
        "#@title #### Run this cell to check your solution { display-mode: \"form\", run: \"auto\" }\n",
        "\n",
        "assert \"c\" in globals(), \"You haven't defined the variable 'c'.\"\n",
        "marking_system.check_step_3(c=c)\n"
      ]
    },
    {
      "cell_type": "markdown",
      "metadata": {
        "id": "9MTYNbtnx1Qa"
      },
      "source": [
        "### 4. What is the type of `c`?"
      ]
    },
    {
      "cell_type": "code",
      "execution_count": 8,
      "metadata": {
        "colab": {
          "base_uri": "https://localhost:8080/"
        },
        "id": "hBCJJXwSx1Qa",
        "outputId": "652a6fb9-3dab-42e8-b6e0-07d74ba29286"
      },
      "outputs": [
        {
          "output_type": "execute_result",
          "data": {
            "text/plain": [
              "float"
            ]
          },
          "metadata": {},
          "execution_count": 8
        }
      ],
      "source": [
        "# TODO: Print the type of 'c'.\n",
        "type(c)"
      ]
    },
    {
      "cell_type": "code",
      "execution_count": 9,
      "metadata": {
        "colab": {
          "base_uri": "https://localhost:8080/"
        },
        "id": "tXMw51ZGx1Qa",
        "outputId": "99084a4e-3b0b-48b0-c240-e1298c46f5ea"
      },
      "outputs": [
        {
          "output_type": "stream",
          "name": "stdout",
          "text": [
            "\u001b[92m✔ Well done! Your answer is correct.\n"
          ]
        }
      ],
      "source": [
        "#@title #### Enter your solution here { display-mode: \"form\", run: \"auto\" }\n",
        "\n",
        "#@markdown What is the type of the 'c'?\n",
        "c_type = \"float\" #@param [\"int\", \"str\", \"float\"] {allow-input: true}\n",
        "marking_system.check_step_4(c_type=c_type)\n"
      ]
    },
    {
      "cell_type": "markdown",
      "metadata": {
        "id": "0owLpzeGx1Qa"
      },
      "source": [
        "### 5. Define a variable called `d` and assign it the value of `a // b`\n"
      ]
    },
    {
      "cell_type": "code",
      "execution_count": 10,
      "metadata": {
        "id": "rsIlyonrx1Qa"
      },
      "outputs": [],
      "source": [
        "# TODO: Create a variable called 'd' and assign it the value of 'a' divided by 'b' using integer division.\n",
        "d = a // b"
      ]
    },
    {
      "cell_type": "code",
      "execution_count": 11,
      "metadata": {
        "colab": {
          "base_uri": "https://localhost:8080/"
        },
        "id": "JrV1k3BYx1Qa",
        "outputId": "99c01339-9a44-4505-9838-b0a319bb49ae"
      },
      "outputs": [
        {
          "output_type": "stream",
          "name": "stdout",
          "text": [
            "\u001b[92m✔ Well done! You have successfully assigned the value of the floor division of 'a' by 'b' to the variable 'd'.By default, Python returns a float when performing a division operation, but it returns an integer when performing a floor division operation.\n"
          ]
        }
      ],
      "source": [
        "#@title #### Run this cell to check your solution { display-mode: \"form\", run: \"auto\" }\n",
        "\n",
        "assert \"d\" in globals(), \"You haven't defined the variable 'd'.\"\n",
        "marking_system.check_step_5(d=d)\n"
      ]
    },
    {
      "cell_type": "markdown",
      "metadata": {
        "id": "uipY9KcVx1Qb"
      },
      "source": [
        "### 6. What is the type of `d`?\n"
      ]
    },
    {
      "cell_type": "code",
      "execution_count": 12,
      "metadata": {
        "colab": {
          "base_uri": "https://localhost:8080/"
        },
        "id": "pZaZ4uyfx1Qb",
        "outputId": "f6e2ac68-23bf-420c-f919-1938527bdbfa"
      },
      "outputs": [
        {
          "output_type": "execute_result",
          "data": {
            "text/plain": [
              "int"
            ]
          },
          "metadata": {},
          "execution_count": 12
        }
      ],
      "source": [
        "# TODO: Print the type of 'd'.\n",
        "type(d)"
      ]
    },
    {
      "cell_type": "code",
      "execution_count": 13,
      "metadata": {
        "colab": {
          "base_uri": "https://localhost:8080/"
        },
        "id": "D7UuBwDnx1Qb",
        "outputId": "5be3426b-98b0-40a5-dcb1-cded81a9bec6"
      },
      "outputs": [
        {
          "output_type": "stream",
          "name": "stdout",
          "text": [
            "\u001b[92m✔ Well done! A floor division operation returns an integer.\n"
          ]
        }
      ],
      "source": [
        "#@title #### Enter your solution here { display-mode: \"form\", run: \"auto\" }\n",
        "\n",
        "#@markdown What is the type of the 'd'?\n",
        "d_type = \"int\" #@param [\"int\", \"str\", \"float\", \"None\"] {allow-input: true}\n",
        "marking_system.check_step_6(d_type=d_type)\n"
      ]
    }
  ],
  "metadata": {
    "kernelspec": {
      "display_name": "content-projects_new",
      "language": "python",
      "name": "python3"
    },
    "language_info": {
      "codemirror_mode": {
        "name": "ipython",
        "version": 3
      },
      "file_extension": ".py",
      "mimetype": "text/x-python",
      "name": "python",
      "nbconvert_exporter": "python",
      "pygments_lexer": "ipython3",
      "version": "3.10.8"
    },
    "vscode": {
      "interpreter": {
        "hash": "4b961f8166aad6ccb4cf65d0f9c742ef9c6c23ffe83ad932438cd83ed96aebaf"
      }
    },
    "colab": {
      "provenance": []
    }
  },
  "nbformat": 4,
  "nbformat_minor": 0
}
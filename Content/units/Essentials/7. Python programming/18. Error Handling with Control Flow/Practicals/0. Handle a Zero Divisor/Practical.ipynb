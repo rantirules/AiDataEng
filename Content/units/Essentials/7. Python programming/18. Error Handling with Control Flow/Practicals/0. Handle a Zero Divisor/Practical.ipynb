{
  "cells": [
    {
      "cell_type": "markdown",
      "metadata": {
        "id": "view-in-github",
        "colab_type": "text"
      },
      "source": [
        "<a href=\"https://colab.research.google.com/github/rantirules/AiDataEng/blob/main/Content/units/Essentials/7.%20Python%20programming/18.%20Error%20Handling%20with%20Control%20Flow/Practicals/0.%20Handle%20a%20Zero%20Divisor/Practical.ipynb\" target=\"_parent\"><img src=\"https://colab.research.google.com/assets/colab-badge.svg\" alt=\"Open In Colab\"/></a>"
      ]
    },
    {
      "cell_type": "markdown",
      "metadata": {
        "id": "vs-CO7shALlu"
      },
      "source": [
        "# Handle a Zero Divisor"
      ]
    },
    {
      "cell_type": "markdown",
      "metadata": {
        "id": "iqIM8kx9ALly"
      },
      "source": [
        "Write a function that uses a `try`-`except` block to handle a `ZeroDivisionError`. It should take in two numbers  `a` and `b` as input parameters, and return `a/b`, except where a `ZeroDivisonError` occurs, in which case it should retsurn `0`. Call it with the arguments `a=x` and `b=y` to check it."
      ]
    },
    {
      "cell_type": "code",
      "execution_count": 3,
      "metadata": {
        "id": "cqRtHlinALlz",
        "outputId": "e9e41251-1b58-4e68-affb-d321f07ececf",
        "colab": {
          "base_uri": "https://localhost:8080/"
        }
      },
      "outputs": [
        {
          "output_type": "stream",
          "name": "stdout",
          "text": [
            "0\n"
          ]
        }
      ],
      "source": [
        "x = 10\n",
        "y = 0\n",
        "\n",
        "# TODO: Create a divide function that uses a try-except block to return a 0 in case of a ZeroDivisionError\n",
        "def division(a, b):\n",
        "  try:\n",
        "    result = a / b\n",
        "    return result\n",
        "  except ZeroDivisionError:\n",
        "    return 0\n",
        "print(division(a=x, b=y))"
      ]
    },
    {
      "cell_type": "markdown",
      "metadata": {
        "id": "ybpUD4tGALl0"
      },
      "source": [
        "Now modify the function so that instead of taking in two parameters, it asks for user input to get the values of `a` and `b`. In the case of a `ZeroDivisionError` it should request the user re-enter their input"
      ]
    },
    {
      "cell_type": "code",
      "execution_count": 8,
      "metadata": {
        "id": "2YfQ41GbALl1",
        "outputId": "cbe8efa5-8e0a-4810-f155-fbe0541d881f",
        "colab": {
          "base_uri": "https://localhost:8080/"
        }
      },
      "outputs": [
        {
          "name": "stdout",
          "output_type": "stream",
          "text": [
            "Enter the first number: 5\n",
            "Enter the second number: 0\n",
            "Please try again\n",
            "Enter the first number: 5\n",
            "Enter the second number: 1\n"
          ]
        },
        {
          "output_type": "execute_result",
          "data": {
            "text/plain": [
              "5.0"
            ]
          },
          "metadata": {},
          "execution_count": 8
        }
      ],
      "source": [
        "# TODO: Create a user_input_divide function that asks for two user input for a and b, and returns a/b, handling the ZeroDivisionError by requesting new input\n",
        "def user_input_divide():\n",
        "  a = int(input('Enter the first number: '))\n",
        "  b = int(input('Enter the second number: '))\n",
        "  try:\n",
        "    result = a /b\n",
        "    return result\n",
        "  except ZeroDivisionError:\n",
        "    print(\"Please try again\")\n",
        "    return user_input_divide()\n",
        "user_input_divide()"
      ]
    }
  ],
  "metadata": {
    "kernelspec": {
      "display_name": "content_repo",
      "language": "python",
      "name": "python3"
    },
    "language_info": {
      "codemirror_mode": {
        "name": "ipython",
        "version": 3
      },
      "file_extension": ".py",
      "mimetype": "text/x-python",
      "name": "python",
      "nbconvert_exporter": "python",
      "pygments_lexer": "ipython3",
      "version": "3.11.3"
    },
    "colab": {
      "provenance": [],
      "include_colab_link": true
    }
  },
  "nbformat": 4,
  "nbformat_minor": 0
}
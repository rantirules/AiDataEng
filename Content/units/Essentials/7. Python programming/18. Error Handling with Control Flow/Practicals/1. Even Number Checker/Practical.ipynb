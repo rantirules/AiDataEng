{
  "cells": [
    {
      "cell_type": "markdown",
      "metadata": {
        "id": "view-in-github",
        "colab_type": "text"
      },
      "source": [
        "<a href=\"https://colab.research.google.com/github/rantirules/AiDataEng/blob/main/Content/units/Essentials/7.%20Python%20programming/18.%20Error%20Handling%20with%20Control%20Flow/Practicals/1.%20Even%20Number%20Checker/Practical.ipynb\" target=\"_parent\"><img src=\"https://colab.research.google.com/assets/colab-badge.svg\" alt=\"Open In Colab\"/></a>"
      ]
    },
    {
      "cell_type": "markdown",
      "metadata": {
        "id": "QQuehRIHCdSD"
      },
      "source": [
        "# Even Number Checker"
      ]
    },
    {
      "cell_type": "markdown",
      "metadata": {
        "id": "KG1Wf89ECdSG"
      },
      "source": [
        "Write a custom function that:\n",
        "- Takes in an integer number as an input parameter\n",
        "- Returns `True` if the input is even\n",
        "- Raises a `ValueError` if the input is odd\n",
        "- Raises a `TypeError` if the input is not a valid integer"
      ]
    },
    {
      "cell_type": "code",
      "execution_count": 5,
      "metadata": {
        "id": "SuDLyvxSCdSH",
        "outputId": "0772a7d6-6bd3-4125-9baf-a7d83c0aa21e",
        "colab": {
          "base_uri": "https://localhost:8080/"
        }
      },
      "outputs": [
        {
          "output_type": "stream",
          "name": "stdout",
          "text": [
            "True\n"
          ]
        }
      ],
      "source": [
        "# TODO - write a function that takes in an integer as an input, returns True if it is even,\n",
        "# raises a ValueError if it is not, and a TypeError if the input is not an integer\n",
        "def even_number_checker(num):\n",
        "  try:\n",
        "    result = num % 2\n",
        "  except TypeError:\n",
        "    raise TypeError(\"There was a type error\")\n",
        "  if num % 2 != 0:\n",
        "    raise ValueError(\"number is odd\")\n",
        "  else:\n",
        "    return True\n",
        "\n",
        "print(even_number_checker(0))"
      ]
    },
    {
      "cell_type": "code",
      "execution_count": null,
      "metadata": {
        "id": "_or9KFxdCdSJ"
      },
      "outputs": [],
      "source": []
    }
  ],
  "metadata": {
    "language_info": {
      "name": "python"
    },
    "colab": {
      "provenance": [],
      "include_colab_link": true
    },
    "kernelspec": {
      "name": "python3",
      "display_name": "Python 3"
    }
  },
  "nbformat": 4,
  "nbformat_minor": 0
}
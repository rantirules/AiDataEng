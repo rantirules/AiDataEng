{
  "cells": [
    {
      "cell_type": "markdown",
      "metadata": {
        "id": "view-in-github",
        "colab_type": "text"
      },
      "source": [
        "<a href=\"https://colab.research.google.com/github/rantirules/AiDataEng/blob/main/Content/units/Essentials/7.%20Python%20programming/15.%20For%20Loops%2C%20Iteration%20and%20Control%20Flow%20Tricks/Practicals/2.%20Counting%20even%20and%20Odd%20Numbers/Practical.ipynb\" target=\"_parent\"><img src=\"https://colab.research.google.com/assets/colab-badge.svg\" alt=\"Open In Colab\"/></a>"
      ]
    },
    {
      "cell_type": "markdown",
      "id": "8138a717",
      "metadata": {
        "id": "8138a717"
      },
      "source": [
        "# Counting even and Odd Numbers"
      ]
    },
    {
      "cell_type": "code",
      "execution_count": 1,
      "id": "bd2dd659",
      "metadata": {
        "id": "bd2dd659",
        "outputId": "6f791496-dc0c-4dd2-a69a-c0a9d5cec901",
        "colab": {
          "base_uri": "https://localhost:8080/"
        }
      },
      "outputs": [
        {
          "output_type": "stream",
          "name": "stdout",
          "text": [
            "Downloading the marking system\n"
          ]
        }
      ],
      "source": [
        "#@title ### Run the following cell to download the necessary files for this practical { display-mode: \"form\" }\n",
        "#@markdown Don't worry about what's in this collapsed cell\n",
        "\n",
        "print('Downloading the marking system')\n",
        "!wget https://s3-eu-west-1.amazonaws.com/aicore-portal-public-prod-307050600709/practical_files/f8e314e5-d234-467f-bccb-bd6a8d7eda34/marking_system.py -q -O marking_system.py\n",
        "import marking_system\n",
        "import importlib\n",
        "importlib.reload(marking_system)\n",
        "import sys\n",
        "ipython = get_ipython()\n",
        "def hide_traceback(exc_tuple=None, filename=None, tb_offset=None, exception_only=False, running_compiled_code=False):\n",
        "    etype, value, tb = sys.exc_info()\n",
        "    value.__cause__ = None  # suppress chained exceptions\n",
        "    return ipython._showtraceback(etype, \"❌ \" + f\"\u001b[91m{value}\", ipython.InteractiveTB.get_exception_only(etype, \"❌ \" + f\"\u001b[91m{value}\"))\n",
        "ipython.showtraceback = hide_traceback\n"
      ]
    },
    {
      "cell_type": "markdown",
      "id": "8a2907ce",
      "metadata": {
        "id": "8a2907ce"
      },
      "source": [
        "### 1. Write a `for` loop to count the sum of all even numbers between 1 and 100\n",
        "\n",
        "Start by defining a variable called even_sum and set it to 0"
      ]
    },
    {
      "cell_type": "code",
      "execution_count": 2,
      "id": "022994db",
      "metadata": {
        "id": "022994db"
      },
      "outputs": [],
      "source": [
        "# TODO - Create a variable called even_sum and set it to 0\n",
        "even_sum = 0\n",
        "# TODO - Create a for loop that iterates over the numbers 1 to 100\n",
        "for i in range(1, 101):\n",
        "  if i % 2 == 0:\n",
        "    even_sum += i\n",
        "    # TODO - Check if the number is even\n",
        "        # TODO - If the number is even, add it to the even_sum\n"
      ]
    },
    {
      "cell_type": "code",
      "execution_count": 3,
      "id": "8a5fd59c",
      "metadata": {
        "id": "8a5fd59c",
        "outputId": "9826ddf1-94dd-49e7-a7f8-1777bc8ca313",
        "colab": {
          "base_uri": "https://localhost:8080/"
        }
      },
      "outputs": [
        {
          "output_type": "stream",
          "name": "stdout",
          "text": [
            "\u001b[92m✔ Well done! You successfully calculated the sum of the even numbers from 1 to 100. \n"
          ]
        }
      ],
      "source": [
        "#@title #### Run this cell to check if your code looks good { display-mode: \"form\"}\n",
        "\n",
        "assert \"even_sum\" in globals(), \"\"\n",
        "marking_system.check_step_1(even_sum)\n"
      ]
    },
    {
      "cell_type": "markdown",
      "id": "ec2939ad",
      "metadata": {
        "id": "ec2939ad"
      },
      "source": [
        "### 2. Write another `for` loop to count the sum of all odd numbers between 1 and 100\n",
        "\n",
        "Start by defining a variable called `odd_sum` and set it to 0"
      ]
    },
    {
      "cell_type": "code",
      "execution_count": 6,
      "id": "ecd3b26d",
      "metadata": {
        "id": "ecd3b26d"
      },
      "outputs": [],
      "source": [
        "# TODO - Create a variable called odd_sum and set it to 0\n",
        "odd_sum = 0\n",
        "# TODO - Create a for loop that iterates over the numbers 1 to 100\n",
        "for i in range(1, 101, 2):\n",
        "  odd_sum += i\n",
        "    # TODO - Check if the number is odd\n",
        "        # TODO - If the number is odd, add it to the odd_sum\n"
      ]
    },
    {
      "cell_type": "code",
      "execution_count": 5,
      "id": "8be47ca4",
      "metadata": {
        "id": "8be47ca4",
        "outputId": "faba7dc6-e1d5-4870-bc90-06714cab80ea",
        "colab": {
          "base_uri": "https://localhost:8080/"
        }
      },
      "outputs": [
        {
          "output_type": "stream",
          "name": "stdout",
          "text": [
            "\u001b[92m✔ Well done! You successfully calculated the sum of the even numbers from 1 to 100. \n"
          ]
        }
      ],
      "source": [
        "#@title #### Run this cell to check if your code looks good { display-mode: \"form\"}\n",
        "\n",
        "assert \"odd_sum\" in globals(), \"\"\n",
        "marking_system.check_step_2(odd_sum)\n"
      ]
    },
    {
      "cell_type": "code",
      "execution_count": null,
      "id": "430c097d",
      "metadata": {
        "id": "430c097d"
      },
      "outputs": [],
      "source": []
    }
  ],
  "metadata": {
    "kernelspec": {
      "display_name": "content-projects",
      "language": "python",
      "name": "python3"
    },
    "language_info": {
      "codemirror_mode": {
        "name": "ipython",
        "version": 3
      },
      "file_extension": ".py",
      "mimetype": "text/x-python",
      "name": "python",
      "nbconvert_exporter": "python",
      "pygments_lexer": "ipython3",
      "version": "3.10.9"
    },
    "vscode": {
      "interpreter": {
        "hash": "09a03f703d9594344a2b9942d46f9fa7ca1a719272e47a84f9d4a0d86a51c104"
      }
    },
    "colab": {
      "provenance": [],
      "include_colab_link": true
    }
  },
  "nbformat": 4,
  "nbformat_minor": 5
}
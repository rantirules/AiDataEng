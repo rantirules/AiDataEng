{
  "cells": [
    {
      "cell_type": "markdown",
      "metadata": {
        "id": "view-in-github",
        "colab_type": "text"
      },
      "source": [
        "<a href=\"https://colab.research.google.com/github/rantirules/AiDataEng/blob/main/Content/units/Essentials/7.%20Python%20programming/15.%20For%20Loops%2C%20Iteration%20and%20Control%20Flow%20Tricks/Practicals/6.%20Budget%20Calculator/Practical.ipynb\" target=\"_parent\"><img src=\"https://colab.research.google.com/assets/colab-badge.svg\" alt=\"Open In Colab\"/></a>"
      ]
    },
    {
      "cell_type": "markdown",
      "id": "fe9a96ee",
      "metadata": {
        "id": "fe9a96ee"
      },
      "source": [
        "# Budget Calculator"
      ]
    },
    {
      "cell_type": "code",
      "execution_count": 1,
      "id": "28170a19",
      "metadata": {
        "id": "28170a19",
        "outputId": "2e3ddac3-d555-43fb-fa82-1f46eed936f4",
        "colab": {
          "base_uri": "https://localhost:8080/"
        }
      },
      "outputs": [
        {
          "output_type": "stream",
          "name": "stdout",
          "text": [
            "  Preparing metadata (setup.py) ... \u001b[?25l\u001b[?25hdone\n",
            "  Building wheel for timeout-decorator (setup.py) ... \u001b[?25l\u001b[?25hdone\n",
            "Downloading the marking system\n"
          ]
        }
      ],
      "source": [
        "#@title ### Run the following cell to download the necessary files for this practical { display-mode: \"form\" }\n",
        "#@markdown Don't worry about what's in this collapsed cell\n",
        "\n",
        "!pip install -q timeout-decorator\n",
        "print('Downloading the marking system')\n",
        "!wget https://s3-eu-west-1.amazonaws.com/aicore-portal-public-prod-307050600709/practical_files/2466a517-41ac-42b3-9b14-d9cd29585a69/marking_system.py -q -O marking_system.py\n",
        "import marking_system\n",
        "import importlib\n",
        "importlib.reload(marking_system)\n",
        "import sys\n",
        "ipython = get_ipython()\n",
        "def hide_traceback(exc_tuple=None, filename=None, tb_offset=None, exception_only=False, running_compiled_code=False):\n",
        "    etype, value, tb = sys.exc_info()\n",
        "    value.__cause__ = None  # suppress chained exceptions\n",
        "    return ipython._showtraceback(etype, \"❌ \" + f\"\u001b[91m{value}\", ipython.InteractiveTB.get_exception_only(etype, \"❌ \" + f\"\u001b[91m{value}\"))\n",
        "ipython.showtraceback = hide_traceback\n"
      ]
    },
    {
      "cell_type": "markdown",
      "id": "3508dfda",
      "metadata": {
        "id": "3508dfda"
      },
      "source": [
        "Using the following variables\n",
        "\n",
        "- `order_list`: A list with tuples, where each tuple contains the code, the individual price and the quantity of each item in the order\n",
        "- `names`: A dictionary with the names of the items, where the key is the code of the item\n",
        "- `budget`: The budget of the customer\n",
        "- `running_total`: The total cost of the order so far\n",
        "- `receipt`: A list with the items in the order"
      ]
    },
    {
      "cell_type": "code",
      "execution_count": 10,
      "id": "855096ba",
      "metadata": {
        "id": "855096ba"
      },
      "outputs": [],
      "source": [
        "order_list = [(\"tom\", 0.87, 4),\n",
        "              (\"sug\", 1.09, 3),\n",
        "              (\"ws\", 0.29, 4),\n",
        "              (\"juc\", 1.89, 1),\n",
        "              (\"fo\", 1.29, 2)]\n",
        "\n",
        "# This dictionary gives the full name of each product code.\n",
        "names = {\"tom\": \"Tomatoes\",\n",
        "         \"sug\": \"Sugar\",\n",
        "         \"ws\": \"Washing Sponges\",\n",
        "         \"juc\": \"Juice\",\n",
        "         \"fo\": \"Foil\"}\n",
        "\n",
        "budget = 10.00\n",
        "running_total = 0\n",
        "receipt = []\n"
      ]
    },
    {
      "cell_type": "markdown",
      "id": "c98fd2c5",
      "metadata": {
        "id": "c98fd2c5"
      },
      "source": [
        "#### 1. Using a `for` loop, iterate through the `order_list` and:\n",
        "\n",
        "- \"Translate\" the code of the item to the name of the item using the `names` dictionary\n",
        "- Add the name of the item to the `receipt` list\n",
        "- Add the total cost of the item to the `running_total` variable\n",
        "- Subtract the total cost of the item from the `budget` variable\n",
        "\n",
        "At each iteration, check if the running total plus the cost of the next item is greater than the budget.\n",
        "\n",
        "If it is, print the message `\"You can't afford this item: {item name}\"` and break the loop."
      ]
    },
    {
      "cell_type": "code",
      "execution_count": 14,
      "id": "577cf816",
      "metadata": {
        "id": "577cf816",
        "outputId": "5e5bdbf1-0545-440f-91c5-c016eaf0f110",
        "colab": {
          "base_uri": "https://localhost:8080/"
        }
      },
      "outputs": [
        {
          "output_type": "stream",
          "name": "stdout",
          "text": [
            "You can't afford this item: Tomatoes\n"
          ]
        }
      ],
      "source": [
        "import marking_system\n",
        "# Add your code below this line\n",
        "# TODO - Loop through the order list\n",
        "for order in order_list:\n",
        "  cost_of_item = order[1] * order[2]\n",
        "  if cost_of_item > budget:\n",
        "    print(f\"You can't afford this item: {names.get(order[0])}\")\n",
        "    break\n",
        "  else:\n",
        "    running_total += cost_of_item\n",
        "    budget -= cost_of_item\n",
        "    receipt.append(names.get(order[0]))\n",
        "    # TODO - Get the full name of the item\n",
        "    # TODO - Get the price of the item\n",
        "    # TODO - Check if you still have enough money\n",
        "        # TODO - If you can afford it, add the item to the receipt\n",
        "        # TODO - If you can afford it, add the price of the item to the running total\n",
        "    # TODO - If you can't afford it, print a message\n",
        "        # TODO - If you can't afford it, print a message\n",
        "        # TODO - If you can't afford it, break out of the loop\n"
      ]
    },
    {
      "cell_type": "code",
      "execution_count": 15,
      "id": "2eddab74",
      "metadata": {
        "id": "2eddab74",
        "outputId": "f0e60a89-dfe4-4e2b-97b0-fdb6a04a1580",
        "colab": {
          "base_uri": "https://localhost:8080/"
        }
      },
      "outputs": [
        {
          "output_type": "stream",
          "name": "stdout",
          "text": [
            "\u001b[92m✔ Well done! You successfully iterated through the order list and printed the name of the item you can't afford.\n"
          ]
        }
      ],
      "source": [
        "#@title #### Run this cell to check if your code looks good { display-mode: \"form\"}\n",
        "assert \"# Add your code below this line\" in _ih[-2], \"Before checking your code, make sure the last cell you ran contains your code. If you did, make sure you haven't deleted the comment that says '# Add your code below this line'.\"\n",
        "assert \"#@title\" not in _ih[-2], \"If you want to check your code, rerun the cell that contains your code. If you did, make sure you haven't deleted the comment that says '# Add your code below this line'.\"\n",
        "\n",
        "marking_system.check_step_1(_ih[-2])\n"
      ]
    },
    {
      "cell_type": "code",
      "execution_count": 16,
      "id": "3db224a4",
      "metadata": {
        "id": "3db224a4",
        "outputId": "31e89f85-d297-4591-e012-8949e64564c4",
        "colab": {
          "base_uri": "https://localhost:8080/"
        }
      },
      "outputs": [
        {
          "output_type": "stream",
          "name": "stdout",
          "text": [
            "The first thing you need to do at each iteration is to get the name of the product. The product code is the first element of each tuple in the order list and the corresponding name is in the 'names' dictionary. \n",
            "Remember that you can index a dictionary using the key. So, if you want to get the name of the product with code 'tom', you can use names['tom'].\n",
            "In this case, you are iterating through a list of tuples. So, you need to get the first element of each tuple. You can do that using the index operator. So, if you are iterating through the elements of order_list, you can use placeholder[0] to get the first element of the tuple.\n",
            "All together, you can get the name of the product using names[placeholder[0]].\n"
          ]
        }
      ],
      "source": [
        "#@title #### Run this cell to get a hint { display-mode: \"form\"}\n",
        "marking_system.hint_1()\n"
      ]
    },
    {
      "cell_type": "code",
      "execution_count": null,
      "id": "d9bbd406",
      "metadata": {
        "id": "d9bbd406"
      },
      "outputs": [],
      "source": [
        "#@title #### Run this cell to get another hint { display-mode: \"form\"}\n",
        "marking_system.hint_2()\n"
      ]
    },
    {
      "cell_type": "code",
      "execution_count": null,
      "id": "384ca8fd",
      "metadata": {
        "id": "384ca8fd"
      },
      "outputs": [],
      "source": [
        "#@title #### Run this cell to get one last hint { display-mode: \"form\"}\n",
        "marking_system.hint_3()\n"
      ]
    }
  ],
  "metadata": {
    "kernelspec": {
      "display_name": "content-projects_new",
      "language": "python",
      "name": "python3"
    },
    "language_info": {
      "codemirror_mode": {
        "name": "ipython",
        "version": 3
      },
      "file_extension": ".py",
      "mimetype": "text/x-python",
      "name": "python",
      "nbconvert_exporter": "python",
      "pygments_lexer": "ipython3",
      "version": "3.10.8"
    },
    "vscode": {
      "interpreter": {
        "hash": "4b961f8166aad6ccb4cf65d0f9c742ef9c6c23ffe83ad932438cd83ed96aebaf"
      }
    },
    "colab": {
      "provenance": [],
      "include_colab_link": true
    }
  },
  "nbformat": 4,
  "nbformat_minor": 5
}
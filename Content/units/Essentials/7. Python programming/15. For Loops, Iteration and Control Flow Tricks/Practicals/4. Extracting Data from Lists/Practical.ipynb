{
  "cells": [
    {
      "cell_type": "markdown",
      "metadata": {
        "id": "view-in-github",
        "colab_type": "text"
      },
      "source": [
        "<a href=\"https://colab.research.google.com/github/rantirules/AiDataEng/blob/main/Content/units/Essentials/7.%20Python%20programming/15.%20For%20Loops%2C%20Iteration%20and%20Control%20Flow%20Tricks/Practicals/4.%20Extracting%20Data%20from%20Lists/Practical.ipynb\" target=\"_parent\"><img src=\"https://colab.research.google.com/assets/colab-badge.svg\" alt=\"Open In Colab\"/></a>"
      ]
    },
    {
      "cell_type": "markdown",
      "metadata": {
        "id": "mTCvZjNgAFKp"
      },
      "source": [
        "# Extracting Data from Lists"
      ]
    },
    {
      "cell_type": "markdown",
      "metadata": {
        "id": "EKVTeWjPAFKs"
      },
      "source": [
        "Using the following dictionaries:\n"
      ]
    },
    {
      "cell_type": "code",
      "execution_count": 1,
      "metadata": {
        "id": "tgnawE4qAFKt"
      },
      "outputs": [],
      "source": [
        "dict_1 = {'London': [51.509865,-0.118092]}\n",
        "dict_2 = {'Paris': [48.864716, 2.349014]}\n"
      ]
    },
    {
      "cell_type": "markdown",
      "metadata": {
        "id": "4QVXLQ3TAFKu"
      },
      "source": [
        "### 1. Put them into a list as follows: `my_list = [dict_1, dict_2]`\n",
        "<p style=\"font-size: 14px; color: #999999; margin-top: 0px; margin-bottom: 0px;\">This practical doesn't have a marking system because there are many ways to tackle this issue</p>"
      ]
    },
    {
      "cell_type": "code",
      "execution_count": 3,
      "metadata": {
        "id": "z6vG0dw-AFKv",
        "outputId": "2f2840ea-8f00-42df-e798-38b5ef92eb0a",
        "colab": {
          "base_uri": "https://localhost:8080/"
        }
      },
      "outputs": [
        {
          "output_type": "execute_result",
          "data": {
            "text/plain": [
              "[[('London', [51.509865, -0.118092])], [('Paris', [48.864716, 2.349014])]]"
            ]
          },
          "metadata": {},
          "execution_count": 3
        }
      ],
      "source": [
        "# TODO: Create a list of the two dictionaries\n",
        "my_list = [list(dict_1.items()), list(dict_2.items())]\n",
        "my_list"
      ]
    },
    {
      "cell_type": "markdown",
      "metadata": {
        "id": "NYIX-GcuAFKv"
      },
      "source": [
        "### 2. Write a script that loops through the list and prints out the latitude (first value) of each city\n",
        "\n",
        "The output should look like this:\n",
        "```\n",
        "London: 51.509865\n",
        "Paris: 48.864716\n",
        "```"
      ]
    },
    {
      "cell_type": "code",
      "execution_count": 14,
      "metadata": {
        "id": "BoF8P_zSAFKv",
        "outputId": "99876591-03dd-4666-ab24-d6dcc4ea9163",
        "colab": {
          "base_uri": "https://localhost:8080/"
        }
      },
      "outputs": [
        {
          "output_type": "stream",
          "name": "stdout",
          "text": [
            "London: 51.509865\n",
            "Paris: 48.864716\n"
          ]
        }
      ],
      "source": [
        "# TODO: Loop through the list\n",
        "for i in range(0, len(my_list)):\n",
        "  print(f\"{my_list[i][0][0]}: {my_list[i][0][1][0]}\")\n",
        "    # TODO: Get the name of the city by using the keys() method\n",
        "    # TODO: Get the latitude of the city by using the index\n",
        "    # TODO: Print the city name and latitude\n"
      ]
    }
  ],
  "metadata": {
    "kernelspec": {
      "display_name": "content-projects_new",
      "language": "python",
      "name": "python3"
    },
    "language_info": {
      "name": "python",
      "version": "3.10.8"
    },
    "vscode": {
      "interpreter": {
        "hash": "4b961f8166aad6ccb4cf65d0f9c742ef9c6c23ffe83ad932438cd83ed96aebaf"
      }
    },
    "colab": {
      "provenance": [],
      "include_colab_link": true
    }
  },
  "nbformat": 4,
  "nbformat_minor": 0
}
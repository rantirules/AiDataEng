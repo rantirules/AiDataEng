{
  "cells": [
    {
      "cell_type": "markdown",
      "metadata": {
        "id": "view-in-github",
        "colab_type": "text"
      },
      "source": [
        "<a href=\"https://colab.research.google.com/github/rantirules/AiDataEng/blob/main/Content/units/Essentials/7.%20Python%20programming/15.%20For%20Loops%2C%20Iteration%20and%20Control%20Flow%20Tricks/Practicals/1.%20Counting%20even%20Numbers/Practical.ipynb\" target=\"_parent\"><img src=\"https://colab.research.google.com/assets/colab-badge.svg\" alt=\"Open In Colab\"/></a>"
      ]
    },
    {
      "cell_type": "markdown",
      "id": "a6dbdd72",
      "metadata": {
        "id": "a6dbdd72"
      },
      "source": [
        "# Counting even Numbers"
      ]
    },
    {
      "cell_type": "markdown",
      "id": "d8dbe617",
      "metadata": {
        "id": "d8dbe617"
      },
      "source": [
        "Write a program that prints the numbers from 1 to 50 only if the number is even."
      ]
    },
    {
      "cell_type": "markdown",
      "id": "5107bbfc",
      "metadata": {
        "id": "5107bbfc"
      },
      "source": [
        "### 1. Using a `while` loop\n",
        "\n",
        "Create a variable called `n` and assign it the value `1`.\n",
        "\n",
        "Then, create a `while` loop that loops while `n` is less than or equal to `50`.\n",
        "\n",
        "Inside the loop, check if `n` is even. If it is, print `n`.\n",
        "\n",
        "Increment `n` by `1` after each iteration.\n",
        "\n",
        "__Be careful not to create an infinite loop!__\n",
        "\n",
        "<p style=\"font-size: 14px; color: #999999; margin-top: 0px; margin-bottom: 0px;\">This practical doesn't have a marking system because there are many ways to tackle this issue</p>"
      ]
    },
    {
      "cell_type": "code",
      "execution_count": 1,
      "id": "ea7ca1df",
      "metadata": {
        "id": "ea7ca1df",
        "outputId": "94993da7-7c21-4667-eb05-2ae3d4eff6e7",
        "colab": {
          "base_uri": "https://localhost:8080/"
        }
      },
      "outputs": [
        {
          "output_type": "stream",
          "name": "stdout",
          "text": [
            "2\n",
            "4\n",
            "6\n",
            "8\n",
            "10\n",
            "12\n",
            "14\n",
            "16\n",
            "18\n",
            "20\n",
            "22\n",
            "24\n",
            "26\n",
            "28\n",
            "30\n",
            "32\n",
            "34\n",
            "36\n",
            "38\n",
            "40\n",
            "42\n",
            "44\n",
            "46\n",
            "48\n",
            "50\n"
          ]
        }
      ],
      "source": [
        "# Add your code below this line\n",
        "# TODO - Create a variable called n and set it to 1\n",
        "n = 1\n",
        "# TODO - Create a while loop that runs while n is less than or equal to 50\n",
        "while (n <= 50):\n",
        "  if n % 2 == 0:\n",
        "    print(n)\n",
        "  n += 1\n",
        "    # TODO - Check if n is even\n",
        "        # TODO - If n is even, print n\n",
        "    # TODO - Increment n by 1\n"
      ]
    },
    {
      "cell_type": "markdown",
      "id": "4776cdc4",
      "metadata": {
        "id": "4776cdc4"
      },
      "source": [
        "### 2. Using a `for` loop and the `range` function\n",
        "\n",
        "There are at least two ways to solve this problem using a `for` loop:\n",
        "\n",
        "1. Using an `if` statement inside the loop to check if the number is even.\n",
        "2. Using the `range` function to generate a list of even numbers.\n",
        "\n",
        "Use whichever method you prefer."
      ]
    },
    {
      "cell_type": "code",
      "execution_count": 3,
      "id": "73230101",
      "metadata": {
        "id": "73230101",
        "outputId": "bed5ff02-a22c-480b-fa10-3ab29ada20ba",
        "colab": {
          "base_uri": "https://localhost:8080/"
        }
      },
      "outputs": [
        {
          "output_type": "stream",
          "name": "stdout",
          "text": [
            "2\n",
            "4\n",
            "6\n",
            "8\n",
            "10\n",
            "12\n",
            "14\n",
            "16\n",
            "18\n",
            "20\n",
            "22\n",
            "24\n",
            "26\n",
            "28\n",
            "30\n",
            "32\n",
            "34\n",
            "36\n",
            "38\n",
            "40\n",
            "42\n",
            "44\n",
            "46\n",
            "48\n",
            "50\n"
          ]
        }
      ],
      "source": [
        "# Add your code below this line\n",
        "# TODO - Create a for loop that iterates over the numbers 1 to 50\n",
        "for i in range(2, 51, 2):\n",
        "  print(i)\n",
        "    # TODO - Check if n is even\n",
        "        # TODO - If n is even, print n\n"
      ]
    }
  ],
  "metadata": {
    "language_info": {
      "name": "python"
    },
    "colab": {
      "provenance": [],
      "include_colab_link": true
    },
    "kernelspec": {
      "name": "python3",
      "display_name": "Python 3"
    }
  },
  "nbformat": 4,
  "nbformat_minor": 5
}
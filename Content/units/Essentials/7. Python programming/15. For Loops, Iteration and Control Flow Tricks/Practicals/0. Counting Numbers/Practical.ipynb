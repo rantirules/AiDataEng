{
  "cells": [
    {
      "cell_type": "markdown",
      "metadata": {
        "id": "view-in-github",
        "colab_type": "text"
      },
      "source": [
        "<a href=\"https://colab.research.google.com/github/rantirules/AiDataEng/blob/main/Content/units/Essentials/7.%20Python%20programming/15.%20For%20Loops%2C%20Iteration%20and%20Control%20Flow%20Tricks/Practicals/0.%20Counting%20Numbers/Practical.ipynb\" target=\"_parent\"><img src=\"https://colab.research.google.com/assets/colab-badge.svg\" alt=\"Open In Colab\"/></a>"
      ]
    },
    {
      "cell_type": "markdown",
      "id": "e830bc05",
      "metadata": {
        "id": "e830bc05"
      },
      "source": [
        "# Counting Numbers"
      ]
    },
    {
      "cell_type": "code",
      "execution_count": 1,
      "id": "6d551df6",
      "metadata": {
        "id": "6d551df6",
        "outputId": "f1d9a5f8-37a8-464f-8f77-652d283aa9c6",
        "colab": {
          "base_uri": "https://localhost:8080/"
        }
      },
      "outputs": [
        {
          "output_type": "stream",
          "name": "stdout",
          "text": [
            "  Preparing metadata (setup.py) ... \u001b[?25l\u001b[?25hdone\n",
            "  Building wheel for timeout-decorator (setup.py) ... \u001b[?25l\u001b[?25hdone\n",
            "Downloading the marking system\n"
          ]
        }
      ],
      "source": [
        "#@title ### Run the following cell to download the necessary files for this practical { display-mode: \"form\" }\n",
        "#@markdown Don't worry about what's in this collapsed cell\n",
        "\n",
        "!pip install -q timeout-decorator\n",
        "print('Downloading the marking system')\n",
        "!wget https://s3-eu-west-1.amazonaws.com/aicore-portal-public-prod-307050600709/practical_files/70bbb8fb-a9f1-4444-aa9e-ea35c0f69da1/marking_system.py -q -O marking_system.py\n",
        "import marking_system\n",
        "import importlib\n",
        "importlib.reload(marking_system)\n",
        "import sys\n",
        "ipython = get_ipython()\n",
        "def hide_traceback(exc_tuple=None, filename=None, tb_offset=None, exception_only=False, running_compiled_code=False):\n",
        "    etype, value, tb = sys.exc_info()\n",
        "    value.__cause__ = None  # suppress chained exceptions\n",
        "    return ipython._showtraceback(etype, \"❌ \" + f\"\u001b[91m{value}\", ipython.InteractiveTB.get_exception_only(etype, \"❌ \" + f\"\u001b[91m{value}\"))\n",
        "ipython.showtraceback = hide_traceback\n"
      ]
    },
    {
      "cell_type": "markdown",
      "id": "99496996",
      "metadata": {
        "id": "99496996"
      },
      "source": [
        "Write a program that prints the numbers from 1 to 50.\n",
        "\n",
        "#### 1. Using a `while` loop.\n",
        "\n",
        "Create a variable called `n` and assign it the value `1`.\n",
        "\n",
        "Then, create a `while` loop that prints the value of `n` and then increments `n` by `1` until `n` is greater than `50`.\n",
        "\n",
        "__Be careful not to create an infinite loop!__"
      ]
    },
    {
      "cell_type": "code",
      "execution_count": 3,
      "id": "d738a313",
      "metadata": {
        "id": "d738a313",
        "outputId": "d113ba30-f36d-4698-f058-f446a6975979",
        "colab": {
          "base_uri": "https://localhost:8080/"
        }
      },
      "outputs": [
        {
          "output_type": "stream",
          "name": "stdout",
          "text": [
            "1\n",
            "2\n",
            "3\n",
            "4\n",
            "5\n",
            "6\n",
            "7\n",
            "8\n",
            "9\n",
            "10\n",
            "11\n",
            "12\n",
            "13\n",
            "14\n",
            "15\n",
            "16\n",
            "17\n",
            "18\n",
            "19\n",
            "20\n",
            "21\n",
            "22\n",
            "23\n",
            "24\n",
            "25\n",
            "26\n",
            "27\n",
            "28\n",
            "29\n",
            "30\n",
            "31\n",
            "32\n",
            "33\n",
            "34\n",
            "35\n",
            "36\n",
            "37\n",
            "38\n",
            "39\n",
            "40\n",
            "41\n",
            "42\n",
            "43\n",
            "44\n",
            "45\n",
            "46\n",
            "47\n",
            "48\n",
            "49\n",
            "50\n"
          ]
        }
      ],
      "source": [
        "# Add your code below this line\n",
        "# TODO - Create a variable called n and set it to 1\n",
        "n = 1\n",
        "# TODO - Create a while loop that runs while n is less than or equal to 50\n",
        "while(n <= 50):\n",
        "  print(n)\n",
        "  n += 1\n",
        "    # TODO - Inside the while loop, print the value of n\n",
        "    # TODO - Inside the while loop, increment n by 1\n"
      ]
    },
    {
      "cell_type": "code",
      "execution_count": 4,
      "id": "0b30fc64",
      "metadata": {
        "id": "0b30fc64",
        "outputId": "03405ccf-2f42-42c4-da41-25a18aa61692",
        "colab": {
          "base_uri": "https://localhost:8080/"
        }
      },
      "outputs": [
        {
          "output_type": "stream",
          "name": "stdout",
          "text": [
            "\u001b[92m✔ Well done! You successfully printed the numbers from 1 to 50 using a while loop. \n"
          ]
        }
      ],
      "source": [
        "#@title #### Run this cell to check if your code looks good { display-mode: \"form\"}\n",
        "assert \"# Add your code below this line\" in _ih[-2], \"Before checking your code, make sure the last cell you ran contains your code. If you did, make sure you haven't deleted the comment that says '# Add your code below this line'.\"\n",
        "assert \"#@title\" not in _ih[-2], \"If you want to check your code, rerun the cell that contains your code. If you did, make sure you haven't deleted the comment that says '# Add your code below this line'.\"\n",
        "\n",
        "marking_system.check_step_1(_ih[-2])\n"
      ]
    },
    {
      "cell_type": "markdown",
      "id": "88e707ba",
      "metadata": {
        "id": "88e707ba"
      },
      "source": [
        "#### 2. Using a `for` loop to do so\n",
        "\n",
        "There are different ways to do this.\n",
        "\n",
        "For this practical, use the `range()` function to create a list of numbers from `1` to `50` and then use a `for` loop to print each number.\n",
        "\n",
        "Remember that `range()` does not include the last number in the list"
      ]
    },
    {
      "cell_type": "code",
      "execution_count": 5,
      "id": "20767448",
      "metadata": {
        "id": "20767448",
        "outputId": "4bd29ad8-1335-464a-8c64-3515a80b320c",
        "colab": {
          "base_uri": "https://localhost:8080/"
        }
      },
      "outputs": [
        {
          "output_type": "stream",
          "name": "stdout",
          "text": [
            "1\n",
            "2\n",
            "3\n",
            "4\n",
            "5\n",
            "6\n",
            "7\n",
            "8\n",
            "9\n",
            "10\n",
            "11\n",
            "12\n",
            "13\n",
            "14\n",
            "15\n",
            "16\n",
            "17\n",
            "18\n",
            "19\n",
            "20\n",
            "21\n",
            "22\n",
            "23\n",
            "24\n",
            "25\n",
            "26\n",
            "27\n",
            "28\n",
            "29\n",
            "30\n",
            "31\n",
            "32\n",
            "33\n",
            "34\n",
            "35\n",
            "36\n",
            "37\n",
            "38\n",
            "39\n",
            "40\n",
            "41\n",
            "42\n",
            "43\n",
            "44\n",
            "45\n",
            "46\n",
            "47\n",
            "48\n",
            "49\n",
            "50\n"
          ]
        }
      ],
      "source": [
        "# Add your code below this line\n",
        "# TODO - Create a for loop that runs from 1 to 50. Use the range() function.\n",
        "for i in range(1, 51):\n",
        "  print(i)\n",
        "    # TODO - Inside the for loop, print the value of n\n"
      ]
    },
    {
      "cell_type": "code",
      "execution_count": 6,
      "id": "14b39655",
      "metadata": {
        "id": "14b39655",
        "outputId": "d4321d42-1e52-4727-e7bb-c3f5b101c063",
        "colab": {
          "base_uri": "https://localhost:8080/"
        }
      },
      "outputs": [
        {
          "output_type": "stream",
          "name": "stdout",
          "text": [
            "\u001b[92m✔ Well done! You successfully printed the numbers from 1 to 50 using a for loop. \n"
          ]
        }
      ],
      "source": [
        "#@title #### Run this cell to check if your code looks good { display-mode: \"form\"}\n",
        "assert \"# Add your code below this line\" in _ih[-2], \"Before checking your code, make sure the last cell you ran contains your code. If you did, make sure you haven't deleted the comment that says '# Add your code below this line'.\"\n",
        "assert \"#@title\" not in _ih[-2], \"If you want to check your code, rerun the cell that contains your code. If you did, make sure you haven't deleted the comment that says '# Add your code below this line'.\"\n",
        "\n",
        "marking_system.check_step_2(_ih[-2])\n"
      ]
    }
  ],
  "metadata": {
    "kernelspec": {
      "display_name": "content-projects",
      "language": "python",
      "name": "python3"
    },
    "language_info": {
      "codemirror_mode": {
        "name": "ipython",
        "version": 3
      },
      "file_extension": ".py",
      "mimetype": "text/x-python",
      "name": "python",
      "nbconvert_exporter": "python",
      "pygments_lexer": "ipython3",
      "version": "3.10.8"
    },
    "colab": {
      "provenance": [],
      "include_colab_link": true
    }
  },
  "nbformat": 4,
  "nbformat_minor": 5
}
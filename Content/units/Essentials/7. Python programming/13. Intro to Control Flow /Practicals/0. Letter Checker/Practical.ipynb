{
  "cells": [
    {
      "cell_type": "markdown",
      "metadata": {
        "id": "view-in-github",
        "colab_type": "text"
      },
      "source": [
        "<a href=\"https://colab.research.google.com/github/rantirules/AiDataEng/blob/main/Content/units/Essentials/7.%20Python%20programming/13.%20Intro%20to%20Control%20Flow%20/Practicals/0.%20Letter%20Checker/Practical.ipynb\" target=\"_parent\"><img src=\"https://colab.research.google.com/assets/colab-badge.svg\" alt=\"Open In Colab\"/></a>"
      ]
    },
    {
      "cell_type": "markdown",
      "id": "2a815162",
      "metadata": {
        "id": "2a815162"
      },
      "source": [
        "# Letter Checker and String Reverse"
      ]
    },
    {
      "cell_type": "code",
      "execution_count": 1,
      "id": "6f2b6402",
      "metadata": {
        "id": "6f2b6402",
        "outputId": "7f4f3868-69ef-4468-ccad-771ebaccb8bc",
        "colab": {
          "base_uri": "https://localhost:8080/"
        }
      },
      "outputs": [
        {
          "output_type": "stream",
          "name": "stdout",
          "text": [
            "Downloading the marking system\n"
          ]
        }
      ],
      "source": [
        "#@title ### Run the following cell to download the necessary files for this practical { display-mode: \"form\" }\n",
        "#@markdown Don't worry about what's in this collapsed cell\n",
        "\n",
        "print('Downloading the marking system')\n",
        "!wget https://s3-eu-west-1.amazonaws.com/aicore-portal-public-prod-307050600709/practical_files/08237562-408c-4d29-853f-37db2f44d490/marking_system.py -q -O marking_system.py\n",
        "import marking_system\n",
        "import importlib\n",
        "importlib.reload(marking_system)\n",
        "import sys\n",
        "ipython = get_ipython()\n",
        "def hide_traceback(exc_tuple=None, filename=None, tb_offset=None, exception_only=False, running_compiled_code=False):\n",
        "    etype, value, tb = sys.exc_info()\n",
        "    value.__cause__ = None  # suppress chained exceptions\n",
        "    return ipython._showtraceback(etype, \"❌ \" + f\"\u001b[91m{value}\", ipython.InteractiveTB.get_exception_only(etype, \"❌ \" + f\"\u001b[91m{value}\"))\n",
        "ipython.showtraceback = hide_traceback\n"
      ]
    },
    {
      "cell_type": "markdown",
      "id": "521e89fc",
      "metadata": {
        "id": "521e89fc"
      },
      "source": [
        "### Given the following strings"
      ]
    },
    {
      "cell_type": "code",
      "execution_count": 2,
      "id": "988152df",
      "metadata": {
        "id": "988152df"
      },
      "outputs": [],
      "source": [
        "phrase_1 = 'Clean Couch'\n",
        "phrase_2 = 'Giant Table'\n"
      ]
    },
    {
      "cell_type": "markdown",
      "id": "a4f6f72b",
      "metadata": {
        "id": "a4f6f72b"
      },
      "source": [
        "### 1. Check if the first letter of each string is the same.\n",
        "\n",
        "If it is, print `\"The first letters are the same.\"`. If it is not, print `\"The first letters are different.\"`"
      ]
    },
    {
      "cell_type": "code",
      "execution_count": 4,
      "id": "a571accc",
      "metadata": {
        "id": "a571accc",
        "outputId": "23535769-b221-4967-a602-b9026b39ac25",
        "colab": {
          "base_uri": "https://localhost:8080/"
        }
      },
      "outputs": [
        {
          "output_type": "stream",
          "name": "stdout",
          "text": [
            "The first letters are different.\n"
          ]
        }
      ],
      "source": [
        "# Add your code below this line\n",
        "# TODO - In an if-else statement, check if the first letters of phrase_1 and phrase_2 are the same.\n",
        "if phrase_1[0] == phrase_2[0]:\n",
        "  print(\"The first letters are the same.\")\n",
        "\n",
        "print(\"The first letters are different.\")"
      ]
    },
    {
      "cell_type": "code",
      "execution_count": 5,
      "id": "328257a9",
      "metadata": {
        "id": "328257a9",
        "outputId": "5ecf9106-1840-44fc-a630-b7017484ad1c",
        "colab": {
          "base_uri": "https://localhost:8080/"
        }
      },
      "outputs": [
        {
          "output_type": "stream",
          "name": "stdout",
          "text": [
            "\u001b[92m✔ Well done! You successfully compared the first letters of the strings using the 'if' statement.\n"
          ]
        }
      ],
      "source": [
        "#@title #### Run this cell to check if your code looks good { display-mode: \"form\"}\n",
        "assert \"# Add your code below this line\" in _ih[-2], \"Before checking your code, make sure the last cell you ran contains your code. If you did, make sure you haven't deleted the comment that says '# Add your code below this line'.\"\n",
        "assert \"#@title\" not in _ih[-2], \"If you want to check your code, rerun the cell that contains your code. If you did, make sure you haven't deleted the comment that says '# Add your code below this line'.\"\n",
        "\n",
        "marking_system.check_step_1(_ih[-2])\n"
      ]
    },
    {
      "cell_type": "markdown",
      "id": "36affa5e",
      "metadata": {
        "id": "36affa5e"
      },
      "source": [
        "### 2. Try the same using the following strings:"
      ]
    },
    {
      "cell_type": "code",
      "execution_count": 8,
      "id": "77e36b1e",
      "metadata": {
        "id": "77e36b1e",
        "outputId": "ad92d67c-9766-4a23-a64b-c4a36eedf848",
        "colab": {
          "base_uri": "https://localhost:8080/"
        }
      },
      "outputs": [
        {
          "output_type": "stream",
          "name": "stdout",
          "text": [
            "The first letters are the same.\n"
          ]
        }
      ],
      "source": [
        "phrase_1 = \"Clean Couch\"\n",
        "phrase_2 = \"Crooked Table\"\n",
        "if phrase_1[0] == phrase_2[0]:\n",
        "  print(\"The first letters are the same.\")\n",
        "else:\n",
        "  print(\"The first letters are different.\")"
      ]
    },
    {
      "cell_type": "markdown",
      "id": "f2908802",
      "metadata": {
        "id": "f2908802"
      },
      "source": []
    }
  ],
  "metadata": {
    "kernelspec": {
      "display_name": "content-projects_new",
      "language": "python",
      "name": "python3"
    },
    "language_info": {
      "codemirror_mode": {
        "name": "ipython",
        "version": 3
      },
      "file_extension": ".py",
      "mimetype": "text/x-python",
      "name": "python",
      "nbconvert_exporter": "python",
      "pygments_lexer": "ipython3",
      "version": "3.10.8"
    },
    "vscode": {
      "interpreter": {
        "hash": "4b961f8166aad6ccb4cf65d0f9c742ef9c6c23ffe83ad932438cd83ed96aebaf"
      }
    },
    "colab": {
      "provenance": [],
      "include_colab_link": true
    }
  },
  "nbformat": 4,
  "nbformat_minor": 5
}
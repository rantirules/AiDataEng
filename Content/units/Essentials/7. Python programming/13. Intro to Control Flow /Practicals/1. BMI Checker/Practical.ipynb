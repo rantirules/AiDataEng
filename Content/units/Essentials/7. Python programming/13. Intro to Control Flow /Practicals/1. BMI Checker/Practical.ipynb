{
  "cells": [
    {
      "cell_type": "markdown",
      "metadata": {
        "id": "view-in-github",
        "colab_type": "text"
      },
      "source": [
        "<a href=\"https://colab.research.google.com/github/rantirules/AiDataEng/blob/main/Content/units/Essentials/7.%20Python%20programming/13.%20Intro%20to%20Control%20Flow%20/Practicals/1.%20BMI%20Checker/Practical.ipynb\" target=\"_parent\"><img src=\"https://colab.research.google.com/assets/colab-badge.svg\" alt=\"Open In Colab\"/></a>"
      ]
    },
    {
      "cell_type": "markdown",
      "id": "48aa68f0",
      "metadata": {
        "id": "48aa68f0"
      },
      "source": [
        "# BMI Checker"
      ]
    },
    {
      "cell_type": "code",
      "execution_count": 1,
      "id": "7d1ccbe6",
      "metadata": {
        "id": "7d1ccbe6",
        "outputId": "2d47c132-6ff9-41ee-c3fc-0115218684fb",
        "colab": {
          "base_uri": "https://localhost:8080/"
        }
      },
      "outputs": [
        {
          "output_type": "stream",
          "name": "stdout",
          "text": [
            "Downloading the marking system\n"
          ]
        }
      ],
      "source": [
        "#@title ### Run the following cell to download the necessary files for this practical { display-mode: \"form\" }\n",
        "#@markdown Don't worry about what's in this collapsed cell\n",
        "\n",
        "print('Downloading the marking system')\n",
        "!wget https://s3-eu-west-1.amazonaws.com/aicore-portal-public-prod-307050600709/practical_files/c6de4fa0-bdf6-417d-844f-8727e1dffd59/marking_system.py -q -O marking_system.py\n",
        "import marking_system\n",
        "import importlib\n",
        "importlib.reload(marking_system)\n",
        "import sys\n",
        "ipython = get_ipython()\n",
        "def hide_traceback(exc_tuple=None, filename=None, tb_offset=None, exception_only=False, running_compiled_code=False):\n",
        "    etype, value, tb = sys.exc_info()\n",
        "    value.__cause__ = None  # suppress chained exceptions\n",
        "    return ipython._showtraceback(etype, \"❌ \" + f\"\u001b[91m{value}\", ipython.InteractiveTB.get_exception_only(etype, \"❌ \" + f\"\u001b[91m{value}\"))\n",
        "ipython.showtraceback = hide_traceback\n"
      ]
    },
    {
      "cell_type": "markdown",
      "id": "c2c38494",
      "metadata": {
        "id": "c2c38494"
      },
      "source": [
        "### 1. Given 2 variables, `height` (m) and `weight` (kg), calculate the BMI (`weight` / `height` ^2)"
      ]
    },
    {
      "cell_type": "code",
      "execution_count": 17,
      "id": "f0bd75c1",
      "metadata": {
        "id": "f0bd75c1"
      },
      "outputs": [],
      "source": [
        "# TODO - Create a variable called height and assign it your height in metres\n",
        "height = 2.09\n",
        "# TODO - Create a variable called weight and assign it your weight in kg\n",
        "weight = 135\n",
        "# TODO - Create a variable called bmi and assign it the value of your BMI (weight / height ** 2)\n",
        "bmi = weight / (height **2)"
      ]
    },
    {
      "cell_type": "code",
      "execution_count": 15,
      "id": "1ea06144",
      "metadata": {
        "id": "1ea06144",
        "outputId": "5f3f2c4f-58c5-48e2-ebb3-3f83f27feb30",
        "colab": {
          "base_uri": "https://localhost:8080/"
        }
      },
      "outputs": [
        {
          "output_type": "stream",
          "name": "stdout",
          "text": [
            "\u001b[92m✔ Well done! You successfully calculated the BMI.\n"
          ]
        }
      ],
      "source": [
        "#@title #### Run this cell to check your answer { display-mode: \"form\", run: \"auto\" }\n",
        "\n",
        "assert \"height\" in globals(), \"You need to create a variable called height\"\n",
        "assert \"weight\" in globals(), \"You need to create a variable called weight\"\n",
        "assert \"bmi\" in globals(), \"You need to create a variable called bmi\"\n",
        "marking_system.check_step_1(height, weight, bmi)\n"
      ]
    },
    {
      "cell_type": "markdown",
      "id": "a64f94f2",
      "metadata": {
        "id": "a64f94f2"
      },
      "source": [
        "\n",
        "### 2. Using the parameter BMI, write a series of if statements that print the following outcomes:\n",
        "\n",
        "- __Below 18.5__ ⮕ \"Your BMI is x. You're in the underweight range.\"\n",
        "- __Between 18.5 and 24.9__ ⮕ \"Your BMI is x. You're in the healthy weight range.\"\n",
        "- __Between 25 and 29.9__ ⮕ \"Your BMI is x. You're in the overweight range.\"\n",
        "- __Between 30 and 39.9__ ⮕ \"Your BMI is x. You're in the obese range.\""
      ]
    },
    {
      "cell_type": "code",
      "execution_count": 18,
      "id": "61bad754",
      "metadata": {
        "id": "61bad754",
        "outputId": "f01830da-b708-4cd0-947d-fbf4c512e0ba",
        "colab": {
          "base_uri": "https://localhost:8080/"
        }
      },
      "outputs": [
        {
          "output_type": "stream",
          "name": "stdout",
          "text": [
            "Your BMI is 30.905885854261584. You're in the obese range.\n"
          ]
        }
      ],
      "source": [
        "# Add your code below this line\n",
        "# TODO - Create the if/elif/else statement to print the correct message\n",
        "if bmi < 18.5:\n",
        "  print(f\"Your BMI is {bmi}. You're in the underweight range.\")\n",
        "elif bmi > 18.5 and bmi < 24.9:\n",
        "  print(f\"Your BMI is {bmi}. You're in the healthy weight range.\")\n",
        "elif bmi > 25 and bmi < 29.9:\n",
        "  print(f\"Your BMI is {bmi}. You're in the overweight range.\")\n",
        "elif bmi > 30 and bmi < 39.9:\n",
        "  print(f\"Your BMI is {bmi}. You're in the obese range.\")"
      ]
    },
    {
      "cell_type": "code",
      "execution_count": 13,
      "id": "f35eb976",
      "metadata": {
        "id": "f35eb976",
        "outputId": "eee4d7b0-8c02-4197-eb87-1e1604c04701",
        "colab": {
          "base_uri": "https://localhost:8080/"
        }
      },
      "outputs": [
        {
          "output_type": "stream",
          "name": "stdout",
          "text": [
            "\u001b[92m✔ Well done! You successfully printed the range the BMI belongs to.\n"
          ]
        }
      ],
      "source": [
        "#@title #### Run this cell to check if your code looks good { display-mode: \"form\"}\n",
        "assert \"# Add your code below this line\" in _ih[-2], \"Before checking your code, make sure the last cell you ran contains your code. If you did, make sure you haven't deleted the comment that says '# Add your code below this line'.\"\n",
        "assert \"#@title\" not in _ih[-2], \"If you want to check your code, rerun the cell that contains your code. If you did, make sure you haven't deleted the comment that says '# Add your code below this line'.\"\n",
        "\n",
        "marking_system.check_step_2(_ih[-2])\n"
      ]
    },
    {
      "cell_type": "markdown",
      "id": "814c7364",
      "metadata": {
        "id": "814c7364"
      },
      "source": [
        "### 3. Test your code with the following cases by substituting them in for weight and height values in your code:\n",
        "\n",
        "- Height: 1.83m, Weight: 85kg\n",
        "\n",
        "- Height: 1.55m, Weight: 61kg\n",
        "\n",
        "- Height: 2.09m, Weight: 135kg"
      ]
    },
    {
      "cell_type": "code",
      "execution_count": 13,
      "id": "1e415e40",
      "metadata": {
        "id": "1e415e40"
      },
      "outputs": [],
      "source": []
    }
  ],
  "metadata": {
    "kernelspec": {
      "display_name": "content-projects",
      "language": "python",
      "name": "python3"
    },
    "language_info": {
      "codemirror_mode": {
        "name": "ipython",
        "version": 3
      },
      "file_extension": ".py",
      "mimetype": "text/x-python",
      "name": "python",
      "nbconvert_exporter": "python",
      "pygments_lexer": "ipython3",
      "version": "3.9.15"
    },
    "colab": {
      "provenance": [],
      "include_colab_link": true
    }
  },
  "nbformat": 4,
  "nbformat_minor": 5
}
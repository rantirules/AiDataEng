{
  "cells": [
    {
      "cell_type": "markdown",
      "metadata": {
        "id": "view-in-github",
        "colab_type": "text"
      },
      "source": [
        "<a href=\"https://colab.research.google.com/github/rantirules/AiDataEng/blob/main/Content/units/Essentials/7.%20Python%20programming/13.%20Intro%20to%20Control%20Flow%20/Practicals/5.%20Simple%20Rock-Paper-Scissors/Practical.ipynb\" target=\"_parent\"><img src=\"https://colab.research.google.com/assets/colab-badge.svg\" alt=\"Open In Colab\"/></a>"
      ]
    },
    {
      "cell_type": "markdown",
      "id": "b7006b7b",
      "metadata": {
        "id": "b7006b7b"
      },
      "source": [
        "# Simple Rock-Paper-Scissors"
      ]
    },
    {
      "cell_type": "code",
      "execution_count": 1,
      "id": "589fa1bf",
      "metadata": {
        "id": "589fa1bf",
        "outputId": "fc247dc7-bcb6-4645-c6a6-bffde34e4e2a",
        "colab": {
          "base_uri": "https://localhost:8080/"
        }
      },
      "outputs": [
        {
          "output_type": "stream",
          "name": "stdout",
          "text": [
            "  Preparing metadata (setup.py) ... \u001b[?25l\u001b[?25hdone\n",
            "  Building wheel for timeout-decorator (setup.py) ... \u001b[?25l\u001b[?25hdone\n",
            "Downloading the marking system\n"
          ]
        }
      ],
      "source": [
        "#@title ### Run the following cell to download the necessary files for this practical { display-mode: \"form\" }\n",
        "#@markdown Don't worry about what's in this collapsed cell\n",
        "\n",
        "!pip install -q timeout-decorator\n",
        "print('Downloading the marking system')\n",
        "!wget https://s3-eu-west-1.amazonaws.com/aicore-portal-public-prod-307050600709/practical_files/ca106cab-e46e-419f-85c5-72ea0ba9e2c5/marking_system.py -q -O marking_system.py\n",
        "import marking_system\n",
        "import importlib\n",
        "importlib.reload(marking_system)\n",
        "import sys\n",
        "ipython = get_ipython()\n",
        "def hide_traceback(exc_tuple=None, filename=None, tb_offset=None, exception_only=False, running_compiled_code=False):\n",
        "    etype, value, tb = sys.exc_info()\n",
        "    value.__cause__ = None  # suppress chained exceptions\n",
        "    return ipython._showtraceback(etype, \"❌ \" + f\"\u001b[91m{value}\", ipython.InteractiveTB.get_exception_only(etype, \"❌ \" + f\"\u001b[91m{value}\"))\n",
        "ipython.showtraceback = hide_traceback\n"
      ]
    },
    {
      "cell_type": "markdown",
      "id": "17737207",
      "metadata": {
        "id": "17737207"
      },
      "source": [
        "#### 1. Code the logic of the game to see who wins. Print the result like: `'Player 1 wins'` or `'Player 2 wins'`\n",
        "\n",
        "The game logic is as follows:\n",
        "\n",
        "- `rock` beats `scissors`\n",
        "- `scissors` beats `paper`\n",
        "- `paper` beats `rock`\n",
        "\n",
        "Use the code below to get started\n",
        "\n",
        "__The marking system will be case sensitive, so make sure you use the exact same words as above.__"
      ]
    },
    {
      "cell_type": "code",
      "execution_count": 2,
      "id": "eb81965b",
      "metadata": {
        "id": "eb81965b",
        "outputId": "169ce95e-a327-473e-92a0-88bd6644b9b3",
        "colab": {
          "base_uri": "https://localhost:8080/"
        }
      },
      "outputs": [
        {
          "output_type": "stream",
          "name": "stdout",
          "text": [
            "What is player 1 choice? rock, paper or scissors? rock\n",
            "What is player 2 choice? rock, paper or scissors? scissors\n",
            "Player 1 wins\n"
          ]
        }
      ],
      "source": [
        "player_1 = input(\"What is player 1 choice? rock, paper or scissors? \")\n",
        "player_2 = input(\"What is player 2 choice? rock, paper or scissors? \")\n",
        "# Add your code below this line\n",
        "# TODO - Code the logic for the game\n",
        "if player_1 == \"rock\" and player_2 == \"scissors\":\n",
        "  print(\"Player 1 wins\")\n",
        "elif player_2 == \"rock\" and player_1 == \"scissors\":\n",
        "  print(\"Player 2 wins\")\n",
        "elif player_1 == \"scissors\" and player_2 == \"paper\":\n",
        "  print(\"Player 1 wins\")\n",
        "elif player_2 == \"scissors\" and player_1 == \"paper\":\n",
        "  print(\"Player 2 wins\")\n",
        "elif player_1 == \"paper\" and player_2 == \"rock\":\n",
        "  print(\"Player 1 wins\")\n",
        "elif player_2 == \"paper\" and player_1 == \"rock\":\n",
        "  print(\"Player 2 wins\")"
      ]
    },
    {
      "cell_type": "code",
      "execution_count": 3,
      "id": "61e7dd3d",
      "metadata": {
        "id": "61e7dd3d",
        "outputId": "6031afc2-9f04-468a-eb0d-dee0154a7671",
        "colab": {
          "base_uri": "https://localhost:8080/"
        }
      },
      "outputs": [
        {
          "output_type": "stream",
          "name": "stdout",
          "text": [
            "\u001b[92m✔ Well done! You successfully checked the winner of the game.\n"
          ]
        }
      ],
      "source": [
        "#@title #### Run this cell to check if your code looks good { display-mode: \"form\"}\n",
        "assert \"# Add your code below this line\" in _ih[-2], \"Before checking your code, make sure the last cell you ran contains your code. If you did, make sure you haven't deleted the comment that says '# Add your code below this line'.\"\n",
        "assert \"#@title\" not in _ih[-2], \"If you want to check your code, rerun the cell that contains your code. If you did, make sure you haven't deleted the comment that says '# Add your code below this line'.\"\n",
        "\n",
        "marking_system.check_step_1(_ih[-2])\n"
      ]
    },
    {
      "cell_type": "markdown",
      "id": "d5b2fa0d",
      "metadata": {
        "id": "d5b2fa0d"
      },
      "source": [
        "### 2. Add a check to see if the inputs are valid.\n",
        "\n",
        "Use the same code you have written above, but add a check to see if the inputs are valid.\n",
        "\n",
        "If one of the inputs is not `'rock'`, `'paper'` or `'scissors'`, print `'Invalid input'`"
      ]
    },
    {
      "cell_type": "code",
      "execution_count": 4,
      "id": "2e13fc71",
      "metadata": {
        "id": "2e13fc71",
        "outputId": "e9cbd528-0074-424e-bfe6-15708b4ce086",
        "colab": {
          "base_uri": "https://localhost:8080/"
        }
      },
      "outputs": [
        {
          "output_type": "stream",
          "name": "stdout",
          "text": [
            "What is player 1 choice? rock, paper or scissors? rock\n",
            "What is player 2 choice? rock, paper or scissors? paper\n",
            "Player 2 wins\n"
          ]
        }
      ],
      "source": [
        "player_1 = input(\"What is player 1 choice? rock, paper or scissors? \")\n",
        "player_2 = input(\"What is player 2 choice? rock, paper or scissors? \")\n",
        "# Add your code below this line\n",
        "# TODO - Code the logic for the game to handle invalid inputs\n",
        "if player_1 == \"rock\" and player_2 == \"scissors\":\n",
        "  print(\"Player 1 wins\")\n",
        "elif player_2 == \"rock\" and player_1 == \"scissors\":\n",
        "  print(\"Player 2 wins\")\n",
        "elif player_1 == \"scissors\" and player_2 == \"paper\":\n",
        "  print(\"Player 1 wins\")\n",
        "elif player_2 == \"scissors\" and player_1 == \"paper\":\n",
        "  print(\"Player 2 wins\")\n",
        "elif player_1 == \"paper\" and player_2 == \"rock\":\n",
        "  print(\"Player 1 wins\")\n",
        "elif player_2 == \"paper\" and player_1 == \"rock\":\n",
        "  print(\"Player 2 wins\")\n",
        "else:\n",
        "  print(\"Invalid input\")"
      ]
    },
    {
      "cell_type": "code",
      "execution_count": 5,
      "id": "c287b6d5",
      "metadata": {
        "id": "c287b6d5",
        "outputId": "2085764d-a27c-4a31-9567-82c768bb32f5",
        "colab": {
          "base_uri": "https://localhost:8080/"
        }
      },
      "outputs": [
        {
          "output_type": "stream",
          "name": "stdout",
          "text": [
            "\u001b[92m✔ Well done! You successfully checked the winner of the game and checked if the input is valid.\n"
          ]
        }
      ],
      "source": [
        "#@title #### Run this cell to check if your code looks good { display-mode: \"form\"}\n",
        "assert \"# Add your code below this line\" in _ih[-2], \"Before checking your code, make sure the last cell you ran contains your code. If you did, make sure you haven't deleted the comment that says '# Add your code below this line'.\"\n",
        "assert \"#@title\" not in _ih[-2], \"If you want to check your code, rerun the cell that contains your code. If you did, make sure you haven't deleted the comment that says '# Add your code below this line'.\"\n",
        "\n",
        "marking_system.check_step_2(_ih[-2])\n"
      ]
    },
    {
      "cell_type": "markdown",
      "id": "aa4e1c13",
      "metadata": {
        "id": "aa4e1c13"
      },
      "source": [
        "### 3. Add a check to see if the inputs are the same.\n",
        "\n",
        "Use the same code you have written above, but add a check to see if the inputs are the same.\n",
        "\n",
        "If both inputs are the same, print `\"It's a tie\"`"
      ]
    },
    {
      "cell_type": "code",
      "execution_count": 6,
      "id": "8638a2a0",
      "metadata": {
        "id": "8638a2a0",
        "outputId": "ca5fddb6-4452-4427-973c-8383f82b278f",
        "colab": {
          "base_uri": "https://localhost:8080/"
        }
      },
      "outputs": [
        {
          "output_type": "stream",
          "name": "stdout",
          "text": [
            "What is player 1 choice? rock, paper or scissors? paper\n",
            "What is player 2 choice? rock, paper or scissors? scissors\n",
            "Player 2 wins\n"
          ]
        }
      ],
      "source": [
        "player_1 = input(\"What is player 1 choice? rock, paper or scissors? \")\n",
        "player_2 = input(\"What is player 2 choice? rock, paper or scissors? \")\n",
        "# Add your code below this line\n",
        "# TODO - Code the logic for the game to handle invalid inputs\n",
        "if player_1 == player_2:\n",
        "  print(\"It's a tie\")\n",
        "elif player_1 == \"rock\" and player_2 == \"scissors\":\n",
        "  print(\"Player 1 wins\")\n",
        "elif player_2 == \"rock\" and player_1 == \"scissors\":\n",
        "  print(\"Player 2 wins\")\n",
        "elif player_1 == \"scissors\" and player_2 == \"paper\":\n",
        "  print(\"Player 1 wins\")\n",
        "elif player_2 == \"scissors\" and player_1 == \"paper\":\n",
        "  print(\"Player 2 wins\")\n",
        "elif player_1 == \"paper\" and player_2 == \"rock\":\n",
        "  print(\"Player 1 wins\")\n",
        "elif player_2 == \"paper\" and player_1 == \"rock\":\n",
        "  print(\"Player 2 wins\")\n",
        "else:\n",
        "  print(\"Invalid input\")"
      ]
    },
    {
      "cell_type": "code",
      "execution_count": 7,
      "id": "3f126137",
      "metadata": {
        "id": "3f126137",
        "outputId": "95c46bc0-c7d8-4362-d0c4-133bbd7b2dba",
        "colab": {
          "base_uri": "https://localhost:8080/"
        }
      },
      "outputs": [
        {
          "output_type": "stream",
          "name": "stdout",
          "text": [
            "\u001b[92m✔ Well done! You successfully checked the winner of the game, checked if the input is valid, and checked if it's a tie.\n"
          ]
        }
      ],
      "source": [
        "#@title #### Run this cell to check if your code looks good { display-mode: \"form\"}\n",
        "assert \"# Add your code below this line\" in _ih[-2], \"Before checking your code, make sure the last cell you ran contains your code. If you did, make sure you haven't deleted the comment that says '# Add your code below this line'.\"\n",
        "assert \"#@title\" not in _ih[-2], \"If you want to check your code, rerun the cell that contains your code. If you did, make sure you haven't deleted the comment that says '# Add your code below this line'.\"\n",
        "\n",
        "marking_system.check_step_3(_ih[-2])\n"
      ]
    },
    {
      "cell_type": "markdown",
      "id": "50a2ca97",
      "metadata": {
        "id": "50a2ca97"
      },
      "source": [
        "### 4. Test your code with the following inputs:\n",
        "\n",
        "- Player 1: `scissors`, Player 2: `paper` (This should print `'Player 1 wins'`)\n",
        "- Player 1: `scissors`, Player 2: `rock` (This should print `'Player 2 wins'`)\n",
        "- Player 1: `paper`, Player 2: `paper` (This should print `'It's a tie'`)\n",
        "- Player 1: `rock` Player 2: `lizzard` (This should print `'Invalid input'`)"
      ]
    },
    {
      "cell_type": "code",
      "execution_count": 11,
      "id": "f9960b58",
      "metadata": {
        "id": "f9960b58",
        "outputId": "05136c2c-af42-4adc-9603-b8a0e902a38e",
        "colab": {
          "base_uri": "https://localhost:8080/"
        }
      },
      "outputs": [
        {
          "output_type": "stream",
          "name": "stdout",
          "text": [
            "What is player 1 choice? rock, paper or scissors? rock\n",
            "What is player 2 choice? rock, paper or scissors? lizzard\n",
            "Invalid input\n"
          ]
        }
      ],
      "source": [
        "player_1 = input(\"What is player 1 choice? rock, paper or scissors? \")\n",
        "player_2 = input(\"What is player 2 choice? rock, paper or scissors? \")\n",
        "# Add your code below this line\n",
        "# TODO - Code the logic for the game to handle invalid inputs\n",
        "if player_1 == player_2:\n",
        "  print(\"It's a tie\")\n",
        "elif player_1 == \"rock\" and player_2 == \"scissors\":\n",
        "  print(\"Player 1 wins\")\n",
        "elif player_2 == \"rock\" and player_1 == \"scissors\":\n",
        "  print(\"Player 2 wins\")\n",
        "elif player_1 == \"scissors\" and player_2 == \"paper\":\n",
        "  print(\"Player 1 wins\")\n",
        "elif player_2 == \"scissors\" and player_1 == \"paper\":\n",
        "  print(\"Player 2 wins\")\n",
        "elif player_1 == \"paper\" and player_2 == \"rock\":\n",
        "  print(\"Player 1 wins\")\n",
        "elif player_2 == \"paper\" and player_1 == \"rock\":\n",
        "  print(\"Player 2 wins\")\n",
        "else:\n",
        "  print(\"Invalid input\")"
      ]
    }
  ],
  "metadata": {
    "kernelspec": {
      "display_name": "content-projects_new",
      "language": "python",
      "name": "python3"
    },
    "language_info": {
      "codemirror_mode": {
        "name": "ipython",
        "version": 3
      },
      "file_extension": ".py",
      "mimetype": "text/x-python",
      "name": "python",
      "nbconvert_exporter": "python",
      "pygments_lexer": "ipython3",
      "version": "3.9.15"
    },
    "vscode": {
      "interpreter": {
        "hash": "4b961f8166aad6ccb4cf65d0f9c742ef9c6c23ffe83ad932438cd83ed96aebaf"
      }
    },
    "colab": {
      "provenance": [],
      "include_colab_link": true
    }
  },
  "nbformat": 4,
  "nbformat_minor": 5
}
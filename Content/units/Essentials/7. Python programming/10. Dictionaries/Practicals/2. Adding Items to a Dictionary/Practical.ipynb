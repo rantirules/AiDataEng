{
  "cells": [
    {
      "cell_type": "markdown",
      "metadata": {
        "id": "view-in-github",
        "colab_type": "text"
      },
      "source": [
        "<a href=\"https://colab.research.google.com/github/rantirules/AiDataEng/blob/main/Content/units/Essentials/7.%20Python%20programming/10.%20Dictionaries/Practicals/2.%20Adding%20Items%20to%20a%20Dictionary/Practical.ipynb\" target=\"_parent\"><img src=\"https://colab.research.google.com/assets/colab-badge.svg\" alt=\"Open In Colab\"/></a>"
      ]
    },
    {
      "cell_type": "markdown",
      "id": "597cace2",
      "metadata": {
        "id": "597cace2"
      },
      "source": [
        "# Adding Items to a Dictionary"
      ]
    },
    {
      "cell_type": "code",
      "execution_count": 1,
      "id": "463675bf",
      "metadata": {
        "id": "463675bf",
        "outputId": "43421e73-47c0-4be7-be8f-e7f2f49d3172",
        "colab": {
          "base_uri": "https://localhost:8080/"
        }
      },
      "outputs": [
        {
          "output_type": "stream",
          "name": "stdout",
          "text": [
            "Downloading the marking system\n"
          ]
        }
      ],
      "source": [
        "#@title ### Run the following cell to download the necessary files for this practical { display-mode: \"form\" }\n",
        "#@markdown Don't worry about what's in this collapsed cell\n",
        "\n",
        "print('Downloading the marking system')\n",
        "!wget https://s3-eu-west-1.amazonaws.com/aicore-portal-public-prod-307050600709/practical_files/c964189b-9d49-4c6b-a27d-1d8c13647f59/marking_system.py -q -O marking_system.py\n",
        "import marking_system\n",
        "import importlib\n",
        "importlib.reload(marking_system)\n",
        "import sys\n",
        "ipython = get_ipython()\n",
        "def hide_traceback(exc_tuple=None, filename=None, tb_offset=None, exception_only=False, running_compiled_code=False):\n",
        "    etype, value, tb = sys.exc_info()\n",
        "    value.__cause__ = None  # suppress chained exceptions\n",
        "    return ipython._showtraceback(etype, \"❌ \" + f\"\u001b[91m{value}\", ipython.InteractiveTB.get_exception_only(etype, \"❌ \" + f\"\u001b[91m{value}\"))\n",
        "ipython.showtraceback = hide_traceback\n"
      ]
    },
    {
      "cell_type": "markdown",
      "id": "be9b46a3",
      "metadata": {
        "id": "be9b46a3"
      },
      "source": [
        "### 1. Create a variable called `my_dict` and assign it the value `{\"key_1\": 1, \"key_2\": 2}`"
      ]
    },
    {
      "cell_type": "code",
      "execution_count": 2,
      "id": "3a9ced68",
      "metadata": {
        "id": "3a9ced68"
      },
      "outputs": [],
      "source": [
        "# TODO - Create a variable called my_dict and assign it a dictionary with two key-value pairs.\n",
        "my_dict = {\"key_1\": 1, \"key_2\": 2}"
      ]
    },
    {
      "cell_type": "markdown",
      "id": "3bd1ffc0",
      "metadata": {
        "id": "3bd1ffc0"
      },
      "source": [
        "### 2. Add a new key called `key_3` with the value `3` using indexing."
      ]
    },
    {
      "cell_type": "code",
      "execution_count": 3,
      "id": "3c72bb19",
      "metadata": {
        "id": "3c72bb19"
      },
      "outputs": [],
      "source": [
        "# TODO - Add a new key-value pair to my_dict with the key \"key_3\" and the value 3.\n",
        "my_dict[\"key_3\"] = 3"
      ]
    },
    {
      "cell_type": "code",
      "execution_count": 4,
      "id": "bf4983d6",
      "metadata": {
        "id": "bf4983d6",
        "outputId": "6e9d726e-8238-4fb5-80bc-34c6f622843f",
        "colab": {
          "base_uri": "https://localhost:8080/"
        }
      },
      "outputs": [
        {
          "output_type": "stream",
          "name": "stdout",
          "text": [
            "\u001b[92m✔ Well done! You successfully added a new key-value pair to the dictionary.\n"
          ]
        }
      ],
      "source": [
        "#@title #### Run this cell to check your answer { display-mode: \"form\", run: \"auto\" }\n",
        "\n",
        "assert \"my_dict\" in globals(), \"The variable 'my_dict' does not exist. Please, create it.\"\n",
        "marking_system.check_step_1(my_dict)\n"
      ]
    },
    {
      "cell_type": "markdown",
      "id": "f06f10be",
      "metadata": {
        "id": "f06f10be"
      },
      "source": [
        "### 3. Add a new key called `key_4` with the value `4` using the `update()` method"
      ]
    },
    {
      "cell_type": "code",
      "execution_count": 6,
      "id": "843a1f62",
      "metadata": {
        "id": "843a1f62"
      },
      "outputs": [],
      "source": [
        "# TODO - Add a new key-value pair to my_dict with key \"key_4\" and value 4 using the update method.\n",
        "my_dict.update({\"key_4\": 4})"
      ]
    },
    {
      "cell_type": "code",
      "execution_count": 7,
      "id": "81b945e7",
      "metadata": {
        "id": "81b945e7",
        "outputId": "480c6e29-cf7a-4875-d4f4-ce2430f5560d",
        "colab": {
          "base_uri": "https://localhost:8080/"
        }
      },
      "outputs": [
        {
          "output_type": "stream",
          "name": "stdout",
          "text": [
            "\u001b[92m✔ Well done! You successfully added a new key-value pair to the dictionary using the update() method.\n"
          ]
        }
      ],
      "source": [
        "#@title #### Run this cell to check your answer { display-mode: \"form\", run: \"auto\" }\n",
        "\n",
        "assert \"my_dict\" in globals(), \"The variable 'my_dict' does not exist. Please, create it.\"\n",
        "#@markdown What's the type of the argument you have to pass to the update method?\n",
        "ans = \"dictionary\" #@param [\"dictionary\", \"list\", \"tuple\", \"string\", \"\"]\n",
        "marking_system.check_step_2(my_dict, ans)\n"
      ]
    }
  ],
  "metadata": {
    "kernelspec": {
      "display_name": "content-projects_new",
      "language": "python",
      "name": "python3"
    },
    "language_info": {
      "codemirror_mode": {
        "name": "ipython",
        "version": 3
      },
      "file_extension": ".py",
      "mimetype": "text/x-python",
      "name": "python",
      "nbconvert_exporter": "python",
      "pygments_lexer": "ipython3",
      "version": "3.10.8"
    },
    "vscode": {
      "interpreter": {
        "hash": "4b961f8166aad6ccb4cf65d0f9c742ef9c6c23ffe83ad932438cd83ed96aebaf"
      }
    },
    "colab": {
      "provenance": [],
      "include_colab_link": true
    }
  },
  "nbformat": 4,
  "nbformat_minor": 5
}
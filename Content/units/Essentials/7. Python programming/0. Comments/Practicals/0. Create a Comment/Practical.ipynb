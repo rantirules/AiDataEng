{
  "cells": [
    {
      "cell_type": "markdown",
      "metadata": {
        "id": "view-in-github",
        "colab_type": "text"
      },
      "source": [
        "<a href=\"https://colab.research.google.com/github/rantirules/AiDataEng/blob/main/Content/units/Essentials/7.%20Python%20programming/0.%20Comments/Practicals/0.%20Create%20a%20Comment/Practical.ipynb\" target=\"_parent\"><img src=\"https://colab.research.google.com/assets/colab-badge.svg\" alt=\"Open In Colab\"/></a>"
      ]
    },
    {
      "cell_type": "markdown",
      "metadata": {
        "id": "idqVnBSG-Uud"
      },
      "source": [
        "# Create a Comment"
      ]
    },
    {
      "cell_type": "markdown",
      "metadata": {
        "id": "X5msoXLA-Uug"
      },
      "source": [
        "#### In the cell below, create a comment that says \"This is a comment\".\n",
        "\n",
        "A comment is a line of text that is ignored by the Python interpreter.\n",
        "\n",
        "Comments are used to explain what the code is doing, and to make the code easier to read.\n",
        "\n",
        "Comments are created by using the `#` symbol."
      ]
    },
    {
      "cell_type": "code",
      "execution_count": 1,
      "metadata": {
        "id": "gSI9JsPh-Uug"
      },
      "outputs": [],
      "source": [
        "# This is a comment"
      ]
    }
  ],
  "metadata": {
    "kernelspec": {
      "display_name": "content-projects_new",
      "language": "python",
      "name": "python3"
    },
    "language_info": {
      "name": "python",
      "version": "3.10.8 (main, Nov 24 2022, 14:13:03) [GCC 11.2.0]"
    },
    "vscode": {
      "interpreter": {
        "hash": "4b961f8166aad6ccb4cf65d0f9c742ef9c6c23ffe83ad932438cd83ed96aebaf"
      }
    },
    "colab": {
      "provenance": [],
      "include_colab_link": true
    }
  },
  "nbformat": 4,
  "nbformat_minor": 0
}
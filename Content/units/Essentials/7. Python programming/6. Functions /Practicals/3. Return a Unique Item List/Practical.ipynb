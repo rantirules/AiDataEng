{
  "cells": [
    {
      "cell_type": "markdown",
      "metadata": {
        "id": "view-in-github",
        "colab_type": "text"
      },
      "source": [
        "<a href=\"https://colab.research.google.com/github/rantirules/AiDataEng/blob/main/Content/units/Essentials/7.%20Python%20programming/6.%20Functions%20/Practicals/3.%20Return%20a%20Unique%20Item%20List/Practical.ipynb\" target=\"_parent\"><img src=\"https://colab.research.google.com/assets/colab-badge.svg\" alt=\"Open In Colab\"/></a>"
      ]
    },
    {
      "cell_type": "markdown",
      "id": "0235a23b",
      "metadata": {
        "id": "0235a23b"
      },
      "source": [
        "# Return a Unique Item List"
      ]
    },
    {
      "cell_type": "code",
      "execution_count": 1,
      "id": "2fa0a9f5",
      "metadata": {
        "id": "2fa0a9f5",
        "outputId": "2b513349-6136-49e8-d34b-74c47e81208b",
        "colab": {
          "base_uri": "https://localhost:8080/"
        }
      },
      "outputs": [
        {
          "output_type": "stream",
          "name": "stdout",
          "text": [
            "Downloading the marking system\n"
          ]
        }
      ],
      "source": [
        "#@title ### Run the following cell to download the necessary files for this practical { display-mode: \"form\" }\n",
        "#@markdown Don't worry about what's in this collapsed cell\n",
        "\n",
        "print('Downloading the marking system')\n",
        "!wget https://s3-eu-west-1.amazonaws.com/aicore-portal-public-prod-307050600709/practical_files/b42b8c0d-bb7a-41d4-ac51-ac926276fa72/marking_system.py -q -O marking_system.py\n",
        "import marking_system\n",
        "import importlib\n",
        "importlib.reload(marking_system)\n",
        "import sys\n",
        "ipython = get_ipython()\n",
        "def hide_traceback(exc_tuple=None, filename=None, tb_offset=None, exception_only=False, running_compiled_code=False):\n",
        "    etype, value, tb = sys.exc_info()\n",
        "    value.__cause__ = None  # suppress chained exceptions\n",
        "    return ipython._showtraceback(etype, \"❌ \" + f\"\u001b[91m{value}\", ipython.InteractiveTB.get_exception_only(etype, \"❌ \" + f\"\u001b[91m{value}\"))\n",
        "ipython.showtraceback = hide_traceback\n"
      ]
    },
    {
      "cell_type": "markdown",
      "id": "cc29fbe3",
      "metadata": {
        "id": "cc29fbe3"
      },
      "source": [
        "#### 1. Write a function called `unique_list` that takes in a list and returns a list with only the unique elements of the input."
      ]
    },
    {
      "cell_type": "code",
      "execution_count": 2,
      "id": "1273b501",
      "metadata": {
        "id": "1273b501"
      },
      "outputs": [],
      "source": [
        "# TODO - Create a function called unique_list that takes a list as an argument and returns a list with all the unique elements of the list.\n",
        "def unique_list(my_list):\n",
        "  return list(set(my_list))"
      ]
    },
    {
      "cell_type": "code",
      "execution_count": 3,
      "id": "5335f103",
      "metadata": {
        "id": "5335f103",
        "outputId": "82e74278-1b76-41dd-9a88-b1406cc9b3d5",
        "colab": {
          "base_uri": "https://localhost:8080/"
        }
      },
      "outputs": [
        {
          "output_type": "stream",
          "name": "stdout",
          "text": [
            "\u001b[92m✔ Well done! You successfully created a function that returns a list with the unique elements of the input list.\n"
          ]
        }
      ],
      "source": [
        "#@title Run this cell to check your code { display-mode: \"form\" }\n",
        "\n",
        "assert \"unique_list\" in globals(), \"You haven't defined a function called 'unique_list'. Please, try again.\"\n",
        "assert callable(unique_list), \"'unique_list' should be a function. Please, try again.\"\n",
        "assert unique_list.__code__.co_argcount == 1, \"'unique_list' should take 1 argument. Please, try again.\"\n",
        "\n",
        "marking_system.check_step_1(unique_list)\n"
      ]
    },
    {
      "cell_type": "markdown",
      "id": "5c7db467",
      "metadata": {
        "id": "5c7db467"
      },
      "source": [
        "Test it using the following code:"
      ]
    },
    {
      "cell_type": "code",
      "execution_count": 4,
      "id": "7c2a2d58",
      "metadata": {
        "id": "7c2a2d58",
        "outputId": "b4ee427e-c08d-4ce0-dea0-bbaeb76dab46",
        "colab": {
          "base_uri": "https://localhost:8080/"
        }
      },
      "outputs": [
        {
          "output_type": "stream",
          "name": "stdout",
          "text": [
            "[1, 2, 3, 4, 5, 6, 12, 63]\n"
          ]
        }
      ],
      "source": [
        "my_list = [1, 3, 5, 6, 4, 3, 2, 3, 3, 4, 3, 4, 5, 6, 6, 4, 3, 2, 12, 3, 5, 63, 4, 5, 3, 3, 2]\n",
        "\n",
        "unique_output = unique_list(my_list)\n",
        "print(unique_output)\n"
      ]
    },
    {
      "cell_type": "markdown",
      "id": "33c517ae",
      "metadata": {
        "id": "33c517ae"
      },
      "source": [
        "The output should be (or have the same elements as):\n",
        "\n",
        "    [1, 2, 3, 4, 5, 6, 12, 63]"
      ]
    }
  ],
  "metadata": {
    "kernelspec": {
      "display_name": "content-projects_new",
      "language": "python",
      "name": "python3"
    },
    "language_info": {
      "codemirror_mode": {
        "name": "ipython",
        "version": 3
      },
      "file_extension": ".py",
      "mimetype": "text/x-python",
      "name": "python",
      "nbconvert_exporter": "python",
      "pygments_lexer": "ipython3",
      "version": "3.10.8"
    },
    "vscode": {
      "interpreter": {
        "hash": "4b961f8166aad6ccb4cf65d0f9c742ef9c6c23ffe83ad932438cd83ed96aebaf"
      }
    },
    "colab": {
      "provenance": [],
      "include_colab_link": true
    }
  },
  "nbformat": 4,
  "nbformat_minor": 5
}
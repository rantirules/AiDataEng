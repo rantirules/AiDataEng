{
  "cells": [
    {
      "cell_type": "markdown",
      "metadata": {
        "id": "view-in-github",
        "colab_type": "text"
      },
      "source": [
        "<a href=\"https://colab.research.google.com/github/rantirules/AiDataEng/blob/main/Content/units/Essentials/7.%20Python%20programming/6.%20Functions%20/Practicals/2.%20Boolean%20Range%20Checker/Practical.ipynb\" target=\"_parent\"><img src=\"https://colab.research.google.com/assets/colab-badge.svg\" alt=\"Open In Colab\"/></a>"
      ]
    },
    {
      "cell_type": "markdown",
      "id": "41383e32",
      "metadata": {
        "id": "41383e32"
      },
      "source": [
        "# Boolean Range Checker"
      ]
    },
    {
      "cell_type": "code",
      "execution_count": 1,
      "id": "2710ba40",
      "metadata": {
        "id": "2710ba40",
        "outputId": "5a06d41a-8d3f-4b09-9d8d-a12247239363",
        "colab": {
          "base_uri": "https://localhost:8080/"
        }
      },
      "outputs": [
        {
          "output_type": "stream",
          "name": "stdout",
          "text": [
            "Downloading the marking system\n"
          ]
        }
      ],
      "source": [
        "#@title ### Run the following cell to download the necessary files for this practical { display-mode: \"form\" }\n",
        "#@markdown Don't worry about what's in this collapsed cell\n",
        "\n",
        "print('Downloading the marking system')\n",
        "!wget https://s3-eu-west-1.amazonaws.com/aicore-portal-public-prod-307050600709/practical_files/7dde34f0-1275-42ff-90e5-0032a42b557d/marking_system.py -q -O marking_system.py\n",
        "import marking_system\n",
        "import importlib\n",
        "importlib.reload(marking_system)\n",
        "import sys\n",
        "ipython = get_ipython()\n",
        "def hide_traceback(exc_tuple=None, filename=None, tb_offset=None, exception_only=False, running_compiled_code=False):\n",
        "    etype, value, tb = sys.exc_info()\n",
        "    value.__cause__ = None  # suppress chained exceptions\n",
        "    return ipython._showtraceback(etype, \"❌ \" + f\"\u001b[91m{value}\", ipython.InteractiveTB.get_exception_only(etype, \"❌ \" + f\"\u001b[91m{value}\"))\n",
        "ipython.showtraceback = hide_traceback\n"
      ]
    },
    {
      "cell_type": "markdown",
      "id": "5fb2c35c",
      "metadata": {
        "id": "5fb2c35c"
      },
      "source": [
        "### 1. Write a function called `in_range` which takes in three arguments: `lower_bound`, `upper_bound`, and `number`\n",
        "\n",
        "- If `number` is between `lower_bound` and `upper_bound`, return `True`\n",
        "- If it is not, return `False`"
      ]
    },
    {
      "cell_type": "code",
      "execution_count": 4,
      "id": "43d8d5af",
      "metadata": {
        "id": "43d8d5af"
      },
      "outputs": [],
      "source": [
        "# TODO - Define a function called in_range that takes three parameters: lower_bound, upper_bound and value\n",
        "    # TODO - Using if statements, check if the value is between the lower and upper bounds\n",
        "        # TODO - If the value is between the lower and upper bounds, return True\n",
        "# TODO - If the value is not between the lower and upper bounds, return False\n",
        "def in_range(lower_bound, upper_bound, number):\n",
        "  if number > lower_bound and number < upper_bound:\n",
        "    return True\n",
        "  return False\n"
      ]
    },
    {
      "cell_type": "code",
      "execution_count": 5,
      "id": "1421a7aa",
      "metadata": {
        "id": "1421a7aa",
        "outputId": "4bdf921d-06dd-48f7-f5e3-f7a0778b1ce8",
        "colab": {
          "base_uri": "https://localhost:8080/"
        }
      },
      "outputs": [
        {
          "output_type": "stream",
          "name": "stdout",
          "text": [
            "\u001b[92m✔ Well done! You successfully created a function that checks whether a number is in a given range.\n"
          ]
        }
      ],
      "source": [
        "#@title Run this cell to check your code { display-mode: \"form\" }\n",
        "\n",
        "assert \"in_range\" in globals(), \"You haven't defined a function called 'in_range'. Please, try again.\"\n",
        "assert callable(in_range), \"'in_range' should be a function. Please, try again.\"\n",
        "assert in_range.__code__.co_argcount == 3, \"'in_range' should take 3 parameters: lower_bound, upper_bound and number. Please, try again.\"\n",
        "\n",
        "marking_system.check_step_1(in_range)\n"
      ]
    },
    {
      "cell_type": "markdown",
      "id": "56bba96a",
      "metadata": {
        "id": "56bba96a"
      },
      "source": [
        "### 2. Call your function to test it\n",
        "\n",
        "Use the following code to test your function:\n"
      ]
    },
    {
      "cell_type": "code",
      "execution_count": 6,
      "id": "9e3ca55b",
      "metadata": {
        "id": "9e3ca55b",
        "outputId": "5d2a811d-ffd7-462c-e816-432ace675e0d",
        "colab": {
          "base_uri": "https://localhost:8080/"
        }
      },
      "outputs": [
        {
          "output_type": "stream",
          "name": "stdout",
          "text": [
            "True\n",
            "False\n"
          ]
        }
      ],
      "source": [
        "print(in_range(1, 10, 5)) # Should print True\n",
        "print(in_range(1, 10, 11)) # Should print False\n"
      ]
    }
  ],
  "metadata": {
    "kernelspec": {
      "display_name": "content-projects_new",
      "language": "python",
      "name": "python3"
    },
    "language_info": {
      "codemirror_mode": {
        "name": "ipython",
        "version": 3
      },
      "file_extension": ".py",
      "mimetype": "text/x-python",
      "name": "python",
      "nbconvert_exporter": "python",
      "pygments_lexer": "ipython3",
      "version": "3.10.8"
    },
    "vscode": {
      "interpreter": {
        "hash": "4b961f8166aad6ccb4cf65d0f9c742ef9c6c23ffe83ad932438cd83ed96aebaf"
      }
    },
    "colab": {
      "provenance": [],
      "include_colab_link": true
    }
  },
  "nbformat": 4,
  "nbformat_minor": 5
}
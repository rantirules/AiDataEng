{
  "cells": [
    {
      "cell_type": "markdown",
      "metadata": {
        "id": "view-in-github",
        "colab_type": "text"
      },
      "source": [
        "<a href=\"https://colab.research.google.com/github/rantirules/AiDataEng/blob/main/Content/units/Essentials/7.%20Python%20programming/5.%20Booleans/Practicals/0.%20Boolean%20Basics/Practical.ipynb\" target=\"_parent\"><img src=\"https://colab.research.google.com/assets/colab-badge.svg\" alt=\"Open In Colab\"/></a>"
      ]
    },
    {
      "cell_type": "markdown",
      "id": "9e4f2082",
      "metadata": {
        "id": "9e4f2082"
      },
      "source": [
        "# Boolean Basics\n",
        "\n",
        "A Boolean variable is one that can take the value of `True` or `False`. In programming, you often want to evaluate whether a condition is true or false. You can evaluate any `Python` expression, and when you do so, the result that is returned will be of the Boolean type.\n",
        "\n",
        "Note that the word Boolean is also used to describe Boolean operators such as `not`, `and` and `or`. We will cover these in a later practical.\n",
        "\n",
        "For example, run the code block below to print the result of evaluating the expression `8 > 5`"
      ]
    },
    {
      "cell_type": "code",
      "execution_count": 1,
      "id": "42e2e440",
      "metadata": {
        "colab": {
          "base_uri": "https://localhost:8080/"
        },
        "id": "42e2e440",
        "outputId": "5b529f85-d15a-44c6-9d1a-eb118f1022fc"
      },
      "outputs": [
        {
          "output_type": "stream",
          "name": "stdout",
          "text": [
            "Downloading the marking system\n"
          ]
        }
      ],
      "source": [
        "#@title ### Run the following cell to download the necessary files for this practical { display-mode: \"form\" }\n",
        "#@markdown Don't worry about what's in this collapsed cell\n",
        "\n",
        "print('Downloading the marking system')\n",
        "!wget https://s3-eu-west-1.amazonaws.com/aicore-portal-public-prod-307050600709/practical_files/cc7a136a-6712-4c49-a866-ace6bacd9f4c/marking_system.py -q -O marking_system.py\n",
        "import marking_system\n",
        "import importlib\n",
        "importlib.reload(marking_system)\n",
        "import sys\n",
        "ipython = get_ipython()\n",
        "def hide_traceback(exc_tuple=None, filename=None, tb_offset=None, exception_only=False, running_compiled_code=False):\n",
        "    etype, value, tb = sys.exc_info()\n",
        "    value.__cause__ = None  # suppress chained exceptions\n",
        "    return ipython._showtraceback(etype, \"❌ \" + f\"\u001b[91m{value}\", ipython.InteractiveTB.get_exception_only(etype, \"❌ \" + f\"\u001b[91m{value}\"))\n",
        "ipython.showtraceback = hide_traceback\n"
      ]
    },
    {
      "cell_type": "code",
      "execution_count": 2,
      "id": "139b9e36",
      "metadata": {
        "colab": {
          "base_uri": "https://localhost:8080/"
        },
        "id": "139b9e36",
        "outputId": "11bf946d-d2f5-4e90-e18c-93bce6a3e113"
      },
      "outputs": [
        {
          "output_type": "stream",
          "name": "stdout",
          "text": [
            "False\n"
          ]
        }
      ],
      "source": [
        "print(8 < 5)\n"
      ]
    },
    {
      "cell_type": "markdown",
      "id": "0bd69e5c",
      "metadata": {
        "id": "0bd69e5c"
      },
      "source": [
        "In the cell below, come up with a python expression that will evaluate to `False`, and enclose it in a print statement. Then run the cell and check if your expression correctly evaluates to a `False` Boolean."
      ]
    },
    {
      "cell_type": "code",
      "execution_count": 3,
      "id": "950b9796",
      "metadata": {
        "colab": {
          "base_uri": "https://localhost:8080/"
        },
        "id": "950b9796",
        "outputId": "0180119a-0b46-4a77-84d3-2ae29b3d727d"
      },
      "outputs": [
        {
          "output_type": "stream",
          "name": "stdout",
          "text": [
            "False\n"
          ]
        }
      ],
      "source": [
        "# TODO Print the evaluation of a False expression.\n",
        "print(8 < 5)"
      ]
    },
    {
      "cell_type": "code",
      "execution_count": 6,
      "id": "c3f4ffcc",
      "metadata": {
        "colab": {
          "base_uri": "https://localhost:8080/"
        },
        "id": "c3f4ffcc",
        "outputId": "ffea173d-e14d-4033-a407-75d2d0ff6379"
      },
      "outputs": [
        {
          "output_type": "stream",
          "name": "stdout",
          "text": [
            "\u001b[92m✔ Well done! num_1 is lower than num_2, so the condition is False.\n"
          ]
        }
      ],
      "source": [
        "#@title #### Enter two numbers so that when comparing num_1 and num_2 (num_1 > num_2), the comparison returns False { display-mode: \"form\", run: \"auto\" }\n",
        "\n",
        "num_1 = 5 #@param {type:\"number\"}\n",
        "num_2 = 8 #@param {type:\"number\"}\n",
        "marking_system.check_step_1(num_1, num_2)\n"
      ]
    },
    {
      "cell_type": "markdown",
      "id": "39abc958",
      "metadata": {
        "id": "39abc958"
      },
      "source": [
        "In Python, we can evaluate variables, which is a bit like evaulating whether or not they exist. We do this with the `bool()` function.\n",
        "\n",
        "In the code block below, perform the following steps, and check the result at each step by pressing the 'run' button:\n",
        "- Create a variable called `x` and assign it to the value `1`.\n",
        "- Evaluate the variable using `bool()`.\n",
        "- Now change the value to `0` and evaluate it again.\n",
        "- Now change the value to `None` and evaluate it again.\n"
      ]
    },
    {
      "cell_type": "code",
      "execution_count": 8,
      "id": "74986f7f",
      "metadata": {
        "colab": {
          "base_uri": "https://localhost:8080/"
        },
        "id": "74986f7f",
        "outputId": "6a2657cc-e5f8-4982-d6a6-6f712fc0483c"
      },
      "outputs": [
        {
          "output_type": "stream",
          "name": "stdout",
          "text": [
            "True\n",
            "False\n",
            "False\n"
          ]
        }
      ],
      "source": [
        "# TODO - Create a variable `x` and assign it the value `1`.\n",
        "x = 1\n",
        "# TODO - Evaluate 'x'\n",
        "print(bool(x))\n",
        "# TODO - Change the value of `x` to `0`\n",
        "x = 0\n",
        "# TODO - Evaluate `x`\n",
        "print(bool(x))\n",
        "# TODO - Change the value of `x` to `None`\n",
        "x = None\n",
        "# TODO - Evaluate `x`\n",
        "print(bool(x))"
      ]
    },
    {
      "cell_type": "code",
      "execution_count": 9,
      "id": "07c20e16",
      "metadata": {
        "colab": {
          "base_uri": "https://localhost:8080/"
        },
        "id": "07c20e16",
        "outputId": "d6fac581-84e3-4b14-e81c-42dae83335c0"
      },
      "outputs": [
        {
          "output_type": "stream",
          "name": "stdout",
          "text": [
            "\u001b[92m✔ Well done! In Python, the absence of a value is considered as False. So, for example and empty string or a '0' are considered as False, whereas a non-empty string or a non-zero number are considered as True.\n"
          ]
        }
      ],
      "source": [
        "#@title #### Enter your answers here { display-mode: \"form\", run: \"auto\" }\n",
        "\n",
        "#@markdown What does bool(1) return?\n",
        "ans_1 = \"True\" #@param [\"\", \"True\", \"False\"]\n",
        "#@markdown What does bool(0) return?\n",
        "ans_2 = \"False\" #@param [\"\", \"True\", \"False\"]\n",
        "#@markdown What does bool(None) return?\n",
        "ans_3 = \"False\" #@param [\"\", \"True\", \"False\"]\n",
        "marking_system.check_step_2(ans_1, ans_2, ans_3)\n"
      ]
    },
    {
      "cell_type": "markdown",
      "id": "a9100918",
      "metadata": {
        "id": "a9100918"
      },
      "source": [
        "- Call `bool()` on `x` again, and assign it to a variable `my_boolean`.\n",
        "- Print  the type of `my_boolean`"
      ]
    },
    {
      "cell_type": "code",
      "execution_count": 10,
      "id": "9ea98bc7",
      "metadata": {
        "colab": {
          "base_uri": "https://localhost:8080/"
        },
        "id": "9ea98bc7",
        "outputId": "7070fbe7-ae01-44ad-fb97-98d457cf6de5"
      },
      "outputs": [
        {
          "output_type": "stream",
          "name": "stdout",
          "text": [
            "<class 'bool'>\n"
          ]
        }
      ],
      "source": [
        "# TODO - Call `bool()` on `x` again, and assign it to a variable `my_boolean`.\n",
        "my_boolean = bool(x)\n",
        "# TODO - Print the type of `my_boolean`\n",
        "print(type(my_boolean))"
      ]
    },
    {
      "cell_type": "code",
      "execution_count": 11,
      "id": "13de6a6b",
      "metadata": {
        "colab": {
          "base_uri": "https://localhost:8080/"
        },
        "id": "13de6a6b",
        "outputId": "7ea803dc-5c9e-4869-acd0-5d66d6f543ff"
      },
      "outputs": [
        {
          "output_type": "stream",
          "name": "stdout",
          "text": [
            "\u001b[92m✔ Well done! The type of a boolean is 'bool'.\n"
          ]
        }
      ],
      "source": [
        "#@title #### Enter your answer here { display-mode: \"form\", run: \"auto\" }\n",
        "\n",
        "assert \"my_boolean\" in globals(), \"The variable 'my_boolean' has not been created.\"\n",
        "#@markdown What does Python return when you print the type of `my_boolean`?\n",
        "ans_1 = \"bool\" #@param [\"Boolean\", \"bool\", \"boolean\"]\n",
        "marking_system.check_step_3(ans_1)\n"
      ]
    },
    {
      "cell_type": "markdown",
      "id": "52ef52e9",
      "metadata": {
        "id": "52ef52e9"
      },
      "source": [
        "To create a Boolean variable, we can assign the value `True` or `False` to it. It must always be capitalised.\n",
        "\n",
        "- Try creating a variable called `new_boolean` and assigning it the value `true`. What happens?\n",
        "- Now assign it a value that will create a valid Boolean."
      ]
    },
    {
      "cell_type": "code",
      "execution_count": 12,
      "id": "45de9b80",
      "metadata": {
        "colab": {
          "base_uri": "https://localhost:8080/"
        },
        "id": "45de9b80",
        "outputId": "951f0dfc-301d-4b54-eab4-af7de0d3de74"
      },
      "outputs": [
        {
          "output_type": "stream",
          "name": "stdout",
          "text": [
            "True\n"
          ]
        }
      ],
      "source": [
        "# TODO - Create a variable called `new_boolean` and assign a value of `true` to it.\n",
        "new_boolean = True\n",
        "# TODO - Now create a valid Boolean.\n",
        "new_boolean = 5 > 2\n",
        "print(new_boolean)\n"
      ]
    },
    {
      "cell_type": "markdown",
      "id": "442ac0e4",
      "metadata": {
        "id": "442ac0e4"
      },
      "source": [
        "We can also evaluate strings in a similar way. Strings will evaluate to `True` unless they are empty:"
      ]
    },
    {
      "cell_type": "code",
      "execution_count": 14,
      "id": "2246c114",
      "metadata": {
        "colab": {
          "base_uri": "https://localhost:8080/"
        },
        "id": "2246c114",
        "outputId": "e60646c5-2ffd-429c-cbad-90c22c8eecca"
      },
      "outputs": [
        {
          "output_type": "execute_result",
          "data": {
            "text/plain": [
              "False"
            ]
          },
          "metadata": {},
          "execution_count": 14
        }
      ],
      "source": [
        "# TODO - Assign `x` to an empty string and cast it to a Boolean\n",
        "x = bool(\"\")\n",
        "x"
      ]
    },
    {
      "cell_type": "code",
      "execution_count": 15,
      "id": "d9fbc11c",
      "metadata": {
        "colab": {
          "base_uri": "https://localhost:8080/"
        },
        "id": "d9fbc11c",
        "outputId": "0fa42249-40eb-44ba-dfac-88a39e0860d9"
      },
      "outputs": [
        {
          "output_type": "stream",
          "name": "stdout",
          "text": [
            "\u001b[92m✔ Well done! An empty string is considered as False.\n"
          ]
        }
      ],
      "source": [
        "#@title #### When you cast an empty string to a Boolean, what does Python return? { display-mode: \"form\", run: \"auto\" }\n",
        "\n",
        "assert \"x\" in globals(), \"The variable 'x' has not been created.\"\n",
        "ans_1 = \"False\" #@param [\"\", \"True\", \"False\"]\n",
        "marking_system.check_step_4(ans_1)\n"
      ]
    }
  ],
  "metadata": {
    "kernelspec": {
      "display_name": "content-projects_new",
      "language": "python",
      "name": "python3"
    },
    "language_info": {
      "codemirror_mode": {
        "name": "ipython",
        "version": 3
      },
      "file_extension": ".py",
      "mimetype": "text/x-python",
      "name": "python",
      "nbconvert_exporter": "python",
      "pygments_lexer": "ipython3",
      "version": "3.10.8"
    },
    "vscode": {
      "interpreter": {
        "hash": "4b961f8166aad6ccb4cf65d0f9c742ef9c6c23ffe83ad932438cd83ed96aebaf"
      }
    },
    "colab": {
      "provenance": [],
      "include_colab_link": true
    }
  },
  "nbformat": 4,
  "nbformat_minor": 5
}
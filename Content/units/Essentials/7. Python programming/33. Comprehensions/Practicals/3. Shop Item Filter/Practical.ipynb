{
  "cells": [
    {
      "cell_type": "markdown",
      "metadata": {
        "id": "view-in-github",
        "colab_type": "text"
      },
      "source": [
        "<a href=\"https://colab.research.google.com/github/rantirules/AiDataEng/blob/main/Content/units/Essentials/7.%20Python%20programming/33.%20Comprehensions/Practicals/3.%20Shop%20Item%20Filter/Practical.ipynb\" target=\"_parent\"><img src=\"https://colab.research.google.com/assets/colab-badge.svg\" alt=\"Open In Colab\"/></a>"
      ]
    },
    {
      "cell_type": "markdown",
      "id": "1ba35424",
      "metadata": {
        "id": "1ba35424"
      },
      "source": [
        "# Shop Item Filter"
      ]
    },
    {
      "cell_type": "markdown",
      "id": "805b1325",
      "metadata": {
        "id": "805b1325"
      },
      "source": [
        "Given the following variables:"
      ]
    },
    {
      "cell_type": "code",
      "execution_count": 1,
      "id": "67f758cb",
      "metadata": {
        "id": "67f758cb"
      },
      "outputs": [],
      "source": [
        "shop_dict = {\n",
        "    \"tom\": 0.87,\n",
        "    \"sug\": 1.09,\n",
        "    \"ws\": 0.29,\n",
        "    \"cc\": 1.89,\n",
        "    \"ccz\": 1.29\n",
        "}\n",
        "names_dict = {\n",
        "    \"tom\": \"Tomatoes\",\n",
        "    \"sug\": \"Sugar\",\n",
        "    \"ws\": \"Washing Sponges\",\n",
        "    \"cc\": \"Coca-Cola\",\n",
        "    \"ccz\": \"Coca-Cola Zero\"\n",
        "}"
      ]
    },
    {
      "cell_type": "markdown",
      "id": "290aee1d",
      "metadata": {
        "id": "290aee1d"
      },
      "source": [
        "#### 1. Filter `shop_dict` using list comprehension to find only items with values of over 1.00"
      ]
    },
    {
      "cell_type": "code",
      "execution_count": 3,
      "id": "d4c0ce1a",
      "metadata": {
        "id": "d4c0ce1a",
        "outputId": "1cf489e6-354c-4f59-a9bb-4e764a6ea358",
        "colab": {
          "base_uri": "https://localhost:8080/"
        }
      },
      "outputs": [
        {
          "output_type": "execute_result",
          "data": {
            "text/plain": [
              "['sug', 'cc', 'ccz']"
            ]
          },
          "metadata": {},
          "execution_count": 3
        }
      ],
      "source": [
        "items_over_1 = [k for k, v in shop_dict.items() if v > 1.00]\n",
        "items_over_1"
      ]
    },
    {
      "cell_type": "markdown",
      "id": "98ca9b14",
      "metadata": {
        "id": "98ca9b14"
      },
      "source": [
        "#### 2. Assign them to a list called `filtered_shop` by their full names, not their codes, using `names_dict`."
      ]
    },
    {
      "cell_type": "code",
      "execution_count": 5,
      "id": "4480619a",
      "metadata": {
        "id": "4480619a",
        "outputId": "6aebd69f-6f8c-4d03-88e1-9dc0b63254f2",
        "colab": {
          "base_uri": "https://localhost:8080/"
        }
      },
      "outputs": [
        {
          "output_type": "execute_result",
          "data": {
            "text/plain": [
              "['Sugar', 'Coca-Cola', 'Coca-Cola Zero']"
            ]
          },
          "metadata": {},
          "execution_count": 5
        }
      ],
      "source": [
        "filtered_shop = [names_dict[k]  for k, v in shop_dict.items() if v > 1.00]\n",
        "filtered_shop"
      ]
    }
  ],
  "metadata": {
    "language_info": {
      "name": "python"
    },
    "colab": {
      "provenance": [],
      "include_colab_link": true
    },
    "kernelspec": {
      "name": "python3",
      "display_name": "Python 3"
    }
  },
  "nbformat": 4,
  "nbformat_minor": 5
}
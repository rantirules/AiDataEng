{
  "cells": [
    {
      "cell_type": "markdown",
      "metadata": {
        "id": "view-in-github",
        "colab_type": "text"
      },
      "source": [
        "<a href=\"https://colab.research.google.com/github/rantirules/AiDataEng/blob/main/Content/units/Essentials/7.%20Python%20programming/33.%20Comprehensions/Practicals/2.%20Dictionaries%20and%20List%20Comprehensions/Practical.ipynb\" target=\"_parent\"><img src=\"https://colab.research.google.com/assets/colab-badge.svg\" alt=\"Open In Colab\"/></a>"
      ]
    },
    {
      "cell_type": "markdown",
      "id": "bdef2a2d",
      "metadata": {
        "id": "bdef2a2d"
      },
      "source": [
        "# Dictionaries and List Comprehensions"
      ]
    },
    {
      "cell_type": "markdown",
      "id": "5a9e69e9",
      "metadata": {
        "id": "5a9e69e9"
      },
      "source": [
        "#### 1. Create two dictionaries named dict_1 and dict_2, each one with 2 keys\n",
        "- `name`: a string with a name\n",
        "- `skills`: a list of strings (at least 3) with your skills\n"
      ]
    },
    {
      "cell_type": "code",
      "execution_count": 14,
      "id": "a0eba8c7",
      "metadata": {
        "id": "a0eba8c7"
      },
      "outputs": [],
      "source": [
        "\n",
        "# TODO - Create a dictionaries named dict_1, according to the schema above\n",
        "dict_1 = {'name' : 'Hana', 'skills': [\"GoLang\", \"C\", \"JavaScript\"]}\n",
        "\n",
        "# dict_1 = {\"Hana\": [\"GoLang\", \"C\", \"JavaScript\"], \"Ana\" : [\"C++\", \"JavaScript\", \"Rust\"]}\n",
        "# TODO - Create a dictionaries named dict_2, according to the schema above\n",
        "dict_2 = {'name': 'Jo', 'skills': [\"Reading\", \"Programming\", \"Ice-skating\"]}\n",
        "# dict_2 = {\"Jo\": [\"Reading\", \"Programming\", \"Ice-skating\"], \"Alex\": [\"Swimming\", \"Pilates\", \"Bowling\"]}"
      ]
    },
    {
      "cell_type": "markdown",
      "id": "90cd8391",
      "metadata": {
        "id": "90cd8391"
      },
      "source": [
        "#### 2. Put both of them in a list called `list_of_dictionaries`"
      ]
    },
    {
      "cell_type": "code",
      "execution_count": 15,
      "id": "a519d58f",
      "metadata": {
        "id": "a519d58f",
        "outputId": "6153ecf2-1daf-4ead-e136-eabb273a655f",
        "colab": {
          "base_uri": "https://localhost:8080/"
        }
      },
      "outputs": [
        {
          "output_type": "execute_result",
          "data": {
            "text/plain": [
              "[{'name': 'Hana', 'skills': ['GoLang', 'C', 'JavaScript']},\n",
              " {'name': 'Jo', 'skills': ['Reading', 'Programming', 'Ice-skating']}]"
            ]
          },
          "metadata": {},
          "execution_count": 15
        }
      ],
      "source": [
        "# TODO - Put both of them in a list called `list_of_dictionaries`\n",
        "list_of_dictionaries = [dict_1, dict_2]\n",
        "list_of_dictionaries"
      ]
    },
    {
      "cell_type": "markdown",
      "id": "742c57e6",
      "metadata": {
        "id": "742c57e6"
      },
      "source": [
        "#### 3. Now index that list of dictionaries to find the last letter of the first skill of the last dictionary\n",
        "\n",
        "So, if you have a list of dictionaries like this:\n",
        "\n",
        "```python\n",
        "list_of_dictionaries = [\n",
        "    {\n",
        "        'name': 'John',\n",
        "        'skills': ['Python', 'JavaScript', 'HTML']\n",
        "    },\n",
        "    {\n",
        "        'name': 'Jane',\n",
        "        'skills': ['Python', 'JavaScript', 'CSS']\n",
        "    }\n",
        "]\n",
        "```\n",
        "\n",
        "The last letter of the first skill of the last dictionary would be `n`"
      ]
    },
    {
      "cell_type": "code",
      "execution_count": 17,
      "id": "53e105d2",
      "metadata": {
        "id": "53e105d2",
        "outputId": "b2512bbb-2092-4301-e6b8-13800bd9b601",
        "colab": {
          "base_uri": "https://localhost:8080/",
          "height": 35
        }
      },
      "outputs": [
        {
          "output_type": "execute_result",
          "data": {
            "text/plain": [
              "'g'"
            ],
            "application/vnd.google.colaboratory.intrinsic+json": {
              "type": "string"
            }
          },
          "metadata": {},
          "execution_count": 17
        }
      ],
      "source": [
        "# TODO - Now index that list of dictionaries to find the last letter of the first skill of the last dictionary.\n",
        "letter = list_of_dictionaries[1]['skills'][0][len(list_of_dictionaries[1]['skills'][0])-1]\n",
        "letter"
      ]
    },
    {
      "cell_type": "markdown",
      "id": "6d8cd9fb",
      "metadata": {
        "id": "6d8cd9fb"
      },
      "source": [
        "#### 4. Create a list comprehension which maps that list to a list of the length of names. Assign it to a variable called `name_lengths`.\n",
        "\n",
        "So, if you have a list of dictionaries like this:\n",
        "\n",
        "```python\n",
        "list_of_dictionaries = [\n",
        "    {\n",
        "        'name': 'John',\n",
        "        'skills': ['Python', 'JavaScript', 'HTML']\n",
        "    },\n",
        "    {\n",
        "        'name': 'Mayer',\n",
        "        'skills': ['Python', 'JavaScript', 'CSS']\n",
        "    }\n",
        "]\n",
        "```\n",
        "\n",
        "The result would be `[4, 5]` (because the length of `John` is 4 and the length of `Mayer` is 5)"
      ]
    },
    {
      "cell_type": "code",
      "execution_count": 19,
      "id": "d392e5ab",
      "metadata": {
        "id": "d392e5ab",
        "outputId": "4fa8567d-d95c-4e3b-d032-372b3ed1e298",
        "colab": {
          "base_uri": "https://localhost:8080/"
        }
      },
      "outputs": [
        {
          "output_type": "execute_result",
          "data": {
            "text/plain": [
              "[4, 2]"
            ]
          },
          "metadata": {},
          "execution_count": 19
        }
      ],
      "source": [
        "# TODO - Create a list comprehension which maps that list to a list of the length of names. Assign it to a variable called `name_lengths`.\n",
        "name_lengths = [len(l['name']) for l in list_of_dictionaries]\n",
        "name_lengths"
      ]
    },
    {
      "cell_type": "markdown",
      "id": "b58bf91c",
      "metadata": {
        "id": "b58bf91c"
      },
      "source": [
        "#### 5. Add that list together to get the total number of characters in all of the names\n",
        "\n",
        "So, if you have a list of dictionaries like this:\n",
        "\n",
        "```python\n",
        "list_of_dictionaries = [\n",
        "    {\n",
        "        'name': 'John',\n",
        "        'skills': ['Python', 'JavaScript', 'HTML']\n",
        "    },\n",
        "    {\n",
        "        'name': 'Mayer',\n",
        "        'skills': ['Python', 'JavaScript', 'CSS']\n",
        "    }\n",
        "]\n",
        "```\n",
        "\n",
        "The result would be `9` (because the length of `John` is 4 and the length of `Mayer` is 5, so 4 + 5 = 9)"
      ]
    },
    {
      "cell_type": "code",
      "execution_count": 21,
      "id": "4409b00d",
      "metadata": {
        "id": "4409b00d",
        "outputId": "b46dba3e-e869-4af8-fb34-cc277764c03d",
        "colab": {
          "base_uri": "https://localhost:8080/"
        }
      },
      "outputs": [
        {
          "output_type": "execute_result",
          "data": {
            "text/plain": [
              "6"
            ]
          },
          "metadata": {},
          "execution_count": 21
        }
      ],
      "source": [
        "# TODO - add the lengths together\n",
        "total = sum(name_lengths)\n",
        "total"
      ]
    }
  ],
  "metadata": {
    "kernelspec": {
      "display_name": "huggingface1",
      "language": "python",
      "name": "python3"
    },
    "language_info": {
      "codemirror_mode": {
        "name": "ipython",
        "version": 3
      },
      "file_extension": ".py",
      "mimetype": "text/x-python",
      "name": "python",
      "nbconvert_exporter": "python",
      "pygments_lexer": "ipython3",
      "version": "3.10.8"
    },
    "colab": {
      "provenance": [],
      "include_colab_link": true
    }
  },
  "nbformat": 4,
  "nbformat_minor": 5
}
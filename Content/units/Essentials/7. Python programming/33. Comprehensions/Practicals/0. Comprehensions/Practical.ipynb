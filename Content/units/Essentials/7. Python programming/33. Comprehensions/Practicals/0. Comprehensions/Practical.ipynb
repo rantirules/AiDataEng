{
  "cells": [
    {
      "cell_type": "markdown",
      "metadata": {
        "id": "view-in-github",
        "colab_type": "text"
      },
      "source": [
        "<a href=\"https://colab.research.google.com/github/rantirules/AiDataEng/blob/main/Content/units/Essentials/7.%20Python%20programming/33.%20Comprehensions/Practicals/0.%20Comprehensions/Practical.ipynb\" target=\"_parent\"><img src=\"https://colab.research.google.com/assets/colab-badge.svg\" alt=\"Open In Colab\"/></a>"
      ]
    },
    {
      "cell_type": "markdown",
      "id": "3bed4097",
      "metadata": {
        "id": "3bed4097"
      },
      "source": [
        "# Comprehensions"
      ]
    },
    {
      "cell_type": "markdown",
      "id": "d50673b8",
      "metadata": {
        "id": "d50673b8"
      },
      "source": [
        "#### 1. Use a list comprehension to capitalise the first letter of every element in the list `['hello', 'world']`"
      ]
    },
    {
      "cell_type": "code",
      "execution_count": 3,
      "id": "a2c25f40",
      "metadata": {
        "id": "a2c25f40",
        "outputId": "d2602ec9-cc9a-4661-91b4-6f457750990f",
        "colab": {
          "base_uri": "https://localhost:8080/"
        }
      },
      "outputs": [
        {
          "output_type": "stream",
          "name": "stdout",
          "text": [
            "['Hello', 'World']\n"
          ]
        }
      ],
      "source": [
        "# TODO - Create a variable called word_list, and assign the values `['hello', 'world']`\n",
        "# TODO - Use list comprension to capitalise the first letter of every element in `word_list`. Assign to a variable called `capital_list`.\n",
        "\n",
        "word_list = ['hello', 'world']\n",
        "capital_list = [word[0].upper() + word[1:] for word in word_list]\n",
        "print(capital_list)\n"
      ]
    },
    {
      "cell_type": "markdown",
      "id": "a02860a4",
      "metadata": {
        "id": "a02860a4"
      },
      "source": [
        "#### 2. Use a list comprehension to filter out every multiple of 5 from a range of numbers up to 100"
      ]
    },
    {
      "cell_type": "code",
      "execution_count": 6,
      "id": "8319b8bf",
      "metadata": {
        "id": "8319b8bf",
        "outputId": "4946aa92-0aa9-468d-e4ed-8de3b201e33a",
        "colab": {
          "base_uri": "https://localhost:8080/"
        }
      },
      "outputs": [
        {
          "output_type": "stream",
          "name": "stdout",
          "text": [
            "[1, 2, 3, 4, 6, 7, 8, 9, 11, 12, 13, 14, 16, 17, 18, 19, 21, 22, 23, 24, 26, 27, 28, 29, 31, 32, 33, 34, 36, 37, 38, 39, 41, 42, 43, 44, 46, 47, 48, 49, 51, 52, 53, 54, 56, 57, 58, 59, 61, 62, 63, 64, 66, 67, 68, 69, 71, 72, 73, 74, 76, 77, 78, 79, 81, 82, 83, 84, 86, 87, 88, 89, 91, 92, 93, 94, 96, 97, 98, 99]\n"
          ]
        }
      ],
      "source": [
        "# TODO - Use a list comprehension to filter out every multiple of 5 from a range of numbers up to 100\n",
        "nums = [i for i in range(1, 101) if i % 5 != 0 ]\n",
        "print(nums)"
      ]
    },
    {
      "cell_type": "markdown",
      "id": "8ec542df",
      "metadata": {
        "id": "8ec542df"
      },
      "source": [
        "#### 3. Use a dictionary comprehension to create a map between every integer up to 15 and it's value squared, and assign to a variable called `squared_dict`.\n",
        "\n"
      ]
    },
    {
      "cell_type": "code",
      "execution_count": 7,
      "id": "85cba5c1",
      "metadata": {
        "id": "85cba5c1",
        "outputId": "c5996e8a-888e-4e78-c10e-2112047ff04d",
        "colab": {
          "base_uri": "https://localhost:8080/"
        }
      },
      "outputs": [
        {
          "output_type": "execute_result",
          "data": {
            "text/plain": [
              "{1: 1,\n",
              " 2: 4,\n",
              " 3: 9,\n",
              " 4: 16,\n",
              " 5: 25,\n",
              " 6: 36,\n",
              " 7: 49,\n",
              " 8: 64,\n",
              " 9: 81,\n",
              " 10: 100,\n",
              " 11: 121,\n",
              " 12: 144,\n",
              " 13: 169,\n",
              " 14: 196,\n",
              " 15: 225}"
            ]
          },
          "metadata": {},
          "execution_count": 7
        }
      ],
      "source": [
        "# TODO - Use a dictionary comprehension to create a map between every integer up to 15 and it's value squared\n",
        "squared_dict = {i : i**2 for i in range(1, 16)}\n",
        "squared_dict"
      ]
    },
    {
      "cell_type": "markdown",
      "id": "e175232f",
      "metadata": {
        "id": "e175232f"
      },
      "source": [
        "#### 4. Now, use a dictionary comprehension to create a dictionary that does the inverse! (hint: iterate over `squared_dict.items()` )."
      ]
    },
    {
      "cell_type": "code",
      "execution_count": 8,
      "id": "c831b7b1",
      "metadata": {
        "id": "c831b7b1",
        "outputId": "b2a318d8-c799-4085-decf-28bea5e26941",
        "colab": {
          "base_uri": "https://localhost:8080/"
        }
      },
      "outputs": [
        {
          "output_type": "execute_result",
          "data": {
            "text/plain": [
              "{1: 1,\n",
              " 4: 2,\n",
              " 9: 3,\n",
              " 16: 4,\n",
              " 25: 5,\n",
              " 36: 6,\n",
              " 49: 7,\n",
              " 64: 8,\n",
              " 81: 9,\n",
              " 100: 10,\n",
              " 121: 11,\n",
              " 144: 12,\n",
              " 169: 13,\n",
              " 196: 14,\n",
              " 225: 15}"
            ]
          },
          "metadata": {},
          "execution_count": 8
        }
      ],
      "source": [
        "# TODO -  use a dictionary comprehension to create a dictionary that does the inverse!\n",
        "inverse_squared_dict = {v : k for k, v in squared_dict.items()}\n",
        "inverse_squared_dict"
      ]
    }
  ],
  "metadata": {
    "kernelspec": {
      "display_name": "content-projects_new",
      "language": "python",
      "name": "python3"
    },
    "language_info": {
      "codemirror_mode": {
        "name": "ipython",
        "version": 3
      },
      "file_extension": ".py",
      "mimetype": "text/x-python",
      "name": "python",
      "nbconvert_exporter": "python",
      "pygments_lexer": "ipython3",
      "version": "3.10.8"
    },
    "vscode": {
      "interpreter": {
        "hash": "4b961f8166aad6ccb4cf65d0f9c742ef9c6c23ffe83ad932438cd83ed96aebaf"
      }
    },
    "colab": {
      "provenance": [],
      "include_colab_link": true
    }
  },
  "nbformat": 4,
  "nbformat_minor": 5
}
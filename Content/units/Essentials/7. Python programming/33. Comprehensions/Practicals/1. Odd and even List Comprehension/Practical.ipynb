{
  "cells": [
    {
      "cell_type": "markdown",
      "metadata": {
        "id": "view-in-github",
        "colab_type": "text"
      },
      "source": [
        "<a href=\"https://colab.research.google.com/github/rantirules/AiDataEng/blob/main/Content/units/Essentials/7.%20Python%20programming/33.%20Comprehensions/Practicals/1.%20Odd%20and%20even%20List%20Comprehension/Practical.ipynb\" target=\"_parent\"><img src=\"https://colab.research.google.com/assets/colab-badge.svg\" alt=\"Open In Colab\"/></a>"
      ]
    },
    {
      "cell_type": "markdown",
      "id": "27035db0",
      "metadata": {
        "id": "27035db0"
      },
      "source": [
        "# Odd and even List Comprehension"
      ]
    },
    {
      "cell_type": "markdown",
      "id": "8bc77b02",
      "metadata": {
        "id": "8bc77b02"
      },
      "source": [
        "#### 1. Create a list comprehension that squares even arguments, and squares odd arguments after adding one to them. Test it on  `my_list = [1, 5, 8, 6, 21]`."
      ]
    },
    {
      "cell_type": "code",
      "execution_count": 9,
      "id": "7090583e",
      "metadata": {
        "id": "7090583e",
        "outputId": "3da9dc3f-9e50-416a-8aa1-be6da207a316",
        "colab": {
          "base_uri": "https://localhost:8080/"
        }
      },
      "outputs": [
        {
          "output_type": "execute_result",
          "data": {
            "text/plain": [
              "[4, 36, 64, 36, 484]"
            ]
          },
          "metadata": {},
          "execution_count": 9
        }
      ],
      "source": [
        "# TODO - Create a list comprehension that squares even arguments, and squares odd arguments after adding one to them. Test it on `my_list`.\n",
        "my_list = [1, 5, 8, 6, 21]\n",
        "# result = [ num **2 if (i+1) % 2 == 0 else (num + 1) ** 2 for i, num in enumerate(my_list)]\n",
        "result = [i **2 if i % 2 == 0 else (i+1) ** 2 for i in my_list]\n",
        "result"
      ]
    },
    {
      "cell_type": "markdown",
      "id": "95aac6b4",
      "metadata": {
        "id": "95aac6b4"
      },
      "source": [
        "The output should be:\n",
        "\n",
        "`[4, 36, 64, 36, 484]`"
      ]
    }
  ],
  "metadata": {
    "kernelspec": {
      "display_name": "huggingface1",
      "language": "python",
      "name": "python3"
    },
    "language_info": {
      "codemirror_mode": {
        "name": "ipython",
        "version": 3
      },
      "file_extension": ".py",
      "mimetype": "text/x-python",
      "name": "python",
      "nbconvert_exporter": "python",
      "pygments_lexer": "ipython3",
      "version": "3.10.8"
    },
    "colab": {
      "provenance": [],
      "include_colab_link": true
    }
  },
  "nbformat": 4,
  "nbformat_minor": 5
}
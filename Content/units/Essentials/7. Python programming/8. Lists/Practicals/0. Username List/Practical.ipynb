{
  "cells": [
    {
      "cell_type": "markdown",
      "metadata": {
        "id": "view-in-github",
        "colab_type": "text"
      },
      "source": [
        "<a href=\"https://colab.research.google.com/github/rantirules/AiDataEng/blob/main/Content/units/Essentials/7.%20Python%20programming/8.%20Lists/Practicals/0.%20Username%20List/Practical.ipynb\" target=\"_parent\"><img src=\"https://colab.research.google.com/assets/colab-badge.svg\" alt=\"Open In Colab\"/></a>"
      ]
    },
    {
      "cell_type": "markdown",
      "id": "8e488a21",
      "metadata": {
        "id": "8e488a21"
      },
      "source": [
        "# Username List"
      ]
    },
    {
      "cell_type": "code",
      "execution_count": 1,
      "id": "23486d73",
      "metadata": {
        "colab": {
          "base_uri": "https://localhost:8080/"
        },
        "id": "23486d73",
        "outputId": "8fccf77a-1b61-4af8-db6c-98d21e4578c5"
      },
      "outputs": [
        {
          "output_type": "stream",
          "name": "stdout",
          "text": [
            "Downloading the marking system\n"
          ]
        }
      ],
      "source": [
        "#@title ### Run the following cell to download the necessary files for this practical { display-mode: \"form\" }\n",
        "#@markdown Don't worry about what's in this collapsed cell\n",
        "\n",
        "print('Downloading the marking system')\n",
        "!wget https://s3-eu-west-1.amazonaws.com/aicore-portal-public-prod-307050600709/practical_files/b2d5d233-0c3a-482d-8d4f-31ac6ac99240/marking_system.py -q -O marking_system.py\n",
        "import marking_system\n",
        "import importlib\n",
        "importlib.reload(marking_system)\n",
        "import sys\n",
        "ipython = get_ipython()\n",
        "def hide_traceback(exc_tuple=None, filename=None, tb_offset=None, exception_only=False, running_compiled_code=False):\n",
        "    etype, value, tb = sys.exc_info()\n",
        "    value.__cause__ = None  # suppress chained exceptions\n",
        "    return ipython._showtraceback(etype, \"❌ \" + f\"\u001b[91m{value}\", ipython.InteractiveTB.get_exception_only(etype, \"❌ \" + f\"\u001b[91m{value}\"))\n",
        "ipython.showtraceback = hide_traceback\n"
      ]
    },
    {
      "cell_type": "markdown",
      "id": "ca779da1",
      "metadata": {
        "id": "ca779da1"
      },
      "source": [
        "#### 1. Run the code block below to generate a list of 10 random usernames.\n",
        "\n",
        "Don't worry about understanding this code, as it covers concepts you have yet to learn. The code will just randomly generate a list of 10 usernames for us to work on."
      ]
    },
    {
      "cell_type": "code",
      "execution_count": 2,
      "id": "c4d75cae",
      "metadata": {
        "colab": {
          "base_uri": "https://localhost:8080/"
        },
        "id": "c4d75cae",
        "outputId": "2700e4fd-6752-4a17-e133-d13bb1a9c168"
      },
      "outputs": [
        {
          "output_type": "stream",
          "name": "stdout",
          "text": [
            "['ez9eno', 'm16kydohqc', 'qg9irv566t', 'kaqcg2l1m', 'mtmhacu', '1v4c3x9', '0ozu5hho', '95ayj', 'jleigcv', '8m4rus']\n"
          ]
        }
      ],
      "source": [
        "import random\n",
        "import string\n",
        "\n",
        "usernames = []\n",
        "\n",
        "for i in range(10):\n",
        "    length = random.randint(5, 10)\n",
        "    username = ''.join(random.choices(string.ascii_lowercase + string.digits, k=length))\n",
        "    usernames.append(username)\n",
        "\n",
        "print(usernames)\n"
      ]
    },
    {
      "cell_type": "markdown",
      "id": "a881f51a",
      "metadata": {
        "id": "a881f51a"
      },
      "source": [
        "#### 2. Print the type of `usernames`"
      ]
    },
    {
      "cell_type": "code",
      "execution_count": 3,
      "id": "b7f8cf28",
      "metadata": {
        "colab": {
          "base_uri": "https://localhost:8080/"
        },
        "id": "b7f8cf28",
        "outputId": "109d108c-53a6-456a-c4c9-a0172e791788"
      },
      "outputs": [
        {
          "output_type": "stream",
          "name": "stdout",
          "text": [
            "<class 'list'>\n"
          ]
        }
      ],
      "source": [
        "# TODO - print the type of the variable `usernames`\n",
        "print(type(usernames))"
      ]
    },
    {
      "cell_type": "code",
      "execution_count": 4,
      "id": "9dc7a8ff",
      "metadata": {
        "colab": {
          "base_uri": "https://localhost:8080/"
        },
        "id": "9dc7a8ff",
        "outputId": "d5cb9d22-3b12-40de-9a7a-b880f9cff7e9"
      },
      "outputs": [
        {
          "output_type": "stream",
          "name": "stdout",
          "text": [
            "\u001b[92m✔ Well done! The variable 'usernames' is a list.\n"
          ]
        }
      ],
      "source": [
        "#@title #### Enter your solution here { display-mode: \"form\", run: \"auto\" }\n",
        "\n",
        "#@markdown What is the type of the variable `usernames`?\n",
        "usernames_type = \"list\" #@param [\"str\", \"int\", \"float\", \"bool\", \"list\", \"tuple\", \"dict\", \"other\", \"\"]\n",
        "\n",
        "marking_system.check_step_1(usernames_type)\n"
      ]
    },
    {
      "cell_type": "markdown",
      "id": "8ab1741d",
      "metadata": {
        "id": "8ab1741d"
      },
      "source": [
        "#### 3. Print the length of `usernames`"
      ]
    },
    {
      "cell_type": "code",
      "execution_count": 5,
      "id": "89e7e3cc",
      "metadata": {
        "colab": {
          "base_uri": "https://localhost:8080/"
        },
        "id": "89e7e3cc",
        "outputId": "cf4f3866-ec90-4785-8f0f-15bac2b3f948"
      },
      "outputs": [
        {
          "output_type": "stream",
          "name": "stdout",
          "text": [
            "10\n"
          ]
        }
      ],
      "source": [
        "# TODO - print the length of the variable `usernames`\n",
        "print(len(usernames))"
      ]
    },
    {
      "cell_type": "code",
      "execution_count": 6,
      "id": "b6d388ad",
      "metadata": {
        "colab": {
          "base_uri": "https://localhost:8080/"
        },
        "id": "b6d388ad",
        "outputId": "cb5b9404-e26f-4e8b-ac15-712531c69b89"
      },
      "outputs": [
        {
          "output_type": "stream",
          "name": "stdout",
          "text": [
            "\u001b[92m✔ Well done! The length of the list 'usernames' is correct.\n"
          ]
        }
      ],
      "source": [
        "#@title #### Enter your solution here { display-mode: \"form\", run: \"auto\" }\n",
        "\n",
        "assert \"usernames\" in globals(), \"The variable 'usernames' does not exist. Please, make sure you have defined it\"\n",
        "\n",
        "#@markdown What is the length of the variable `usernames`?\n",
        "usernames_len = 10 #@param {type:\"number\"}\n",
        "\n",
        "marking_system.check_step_2(usernames, usernames_len)\n"
      ]
    },
    {
      "cell_type": "markdown",
      "id": "cd3d2141",
      "metadata": {
        "id": "cd3d2141"
      },
      "source": [
        "#### 4. Print the type of the first item in `usernames`"
      ]
    },
    {
      "cell_type": "code",
      "execution_count": 7,
      "id": "f09f8d31",
      "metadata": {
        "colab": {
          "base_uri": "https://localhost:8080/"
        },
        "id": "f09f8d31",
        "outputId": "11f2dc3a-b2bd-4c6d-9706-babc7f5384c5"
      },
      "outputs": [
        {
          "output_type": "stream",
          "name": "stdout",
          "text": [
            "<class 'str'>\n"
          ]
        }
      ],
      "source": [
        "# TODO - Print the type of the first item in `usernames`\n",
        "print(type(username[0]))"
      ]
    },
    {
      "cell_type": "code",
      "execution_count": 8,
      "id": "1f9be97d",
      "metadata": {
        "colab": {
          "base_uri": "https://localhost:8080/"
        },
        "id": "1f9be97d",
        "outputId": "9482ddd6-3695-46e4-cf74-ae571b1dbf05"
      },
      "outputs": [
        {
          "output_type": "stream",
          "name": "stdout",
          "text": [
            "\u001b[92m✔ Well done! The variable 'username' is a string. In this case, you have a list of strings, but lists can contain any type of data.\n"
          ]
        }
      ],
      "source": [
        "#@title #### Enter your solution here { display-mode: \"form\", run: \"auto\" }\n",
        "\n",
        "#@markdown What is the type of the first item in `usernames`?\n",
        "username_type = \"str\" #@param [\"str\", \"int\", \"float\", \"bool\", \"list\", \"tuple\", \"dict\", \"other\", \"\"]\n",
        "\n",
        "marking_system.check_step_3(username_type)\n"
      ]
    },
    {
      "cell_type": "markdown",
      "id": "9d14680c",
      "metadata": {
        "id": "9d14680c"
      },
      "source": [
        "#### 5. Create a new list called `usernames_2`, consisting of the last 5 elements of `usernames`.\n",
        "\n",
        "To do so, you will need to use slicing (i.e. `usernames[first_index:last_index]`)"
      ]
    },
    {
      "cell_type": "code",
      "execution_count": 9,
      "id": "c2971d97",
      "metadata": {
        "id": "c2971d97"
      },
      "outputs": [],
      "source": [
        "usernames_2 = usernames[-5:]\n"
      ]
    },
    {
      "cell_type": "markdown",
      "id": "fa16f654",
      "metadata": {
        "id": "fa16f654"
      },
      "source": [
        "#### 6. Remove the 2nd element of `usernames_2` from the list and assign it to a variable called `user_example`.\n",
        "\n",
        "You can use the `pop()` method to remove an element from a list and assign it to a variable. Once you have removed the element, print the list to check that it has been removed."
      ]
    },
    {
      "cell_type": "code",
      "execution_count": 10,
      "id": "cc13967a",
      "metadata": {
        "colab": {
          "base_uri": "https://localhost:8080/"
        },
        "id": "cc13967a",
        "outputId": "6434b7f8-3057-42de-e46e-0c84e08ae56e"
      },
      "outputs": [
        {
          "output_type": "stream",
          "name": "stdout",
          "text": [
            "['1v4c3x9', '95ayj', 'jleigcv', '8m4rus']\n"
          ]
        }
      ],
      "source": [
        "# TODO - Remove the 2nd element of usernames from the list and assign it to a variable called user_example\n",
        "user_example = usernames_2.pop(1)\n",
        "# TODO - Print the list usernames_2\n",
        "print(usernames_2)\n"
      ]
    },
    {
      "cell_type": "code",
      "execution_count": 11,
      "id": "361b0b48",
      "metadata": {
        "colab": {
          "base_uri": "https://localhost:8080/"
        },
        "id": "361b0b48",
        "outputId": "6d341ea4-8dbc-43a2-8911-08b2c120004c"
      },
      "outputs": [
        {
          "output_type": "stream",
          "name": "stdout",
          "text": [
            "\u001b[92m✔ Well done! You have successfully popped the second element of 'usernames_2' and stored it in the variable 'user_example'.\n"
          ]
        }
      ],
      "source": [
        "#@title #### Run this cell to check your code { display-mode: \"form\", run: \"auto\" }\n",
        "\n",
        "assert \"usernames\" in globals(), \"The variable 'usernames' does not exist. Please, rerun the cell in step 1 to create the variable 'usernames'.\"\n",
        "assert \"usernames_2\" in globals(), \"The variable 'usernames_2' does not exist. Please, make sure you have defined it\"\n",
        "assert \"user_example\" in globals(), \"The variable 'user_example' does not exist. Please, make sure you have defined it\"\n",
        "\n",
        "marking_system.check_step_4(usernames, usernames_2, user_example)\n"
      ]
    },
    {
      "cell_type": "markdown",
      "id": "fd9a14a2",
      "metadata": {
        "id": "fd9a14a2"
      },
      "source": [
        "#### 7. Use the `.sort()` method to sort the elements of `usernames` alphabetically.\n",
        "\n",
        "Notice that after using the sort method, the list is sorted in place. This means that the list is permanently changed."
      ]
    },
    {
      "cell_type": "code",
      "execution_count": 12,
      "id": "1361c70c",
      "metadata": {
        "colab": {
          "base_uri": "https://localhost:8080/"
        },
        "id": "1361c70c",
        "outputId": "b77f9d8f-58ba-4356-f945-ca068d1c0f5c"
      },
      "outputs": [
        {
          "output_type": "stream",
          "name": "stdout",
          "text": [
            "['0ozu5hho', '1v4c3x9', '8m4rus', '95ayj', 'ez9eno', 'jleigcv', 'kaqcg2l1m', 'm16kydohqc', 'mtmhacu', 'qg9irv566t']\n"
          ]
        }
      ],
      "source": [
        "# TODO - Use the `.sort()` method to sort the elements of `usernames` alphabetically.\n",
        "usernames.sort()\n",
        "# TODO - Print `usernames`\n",
        "print(usernames)\n"
      ]
    },
    {
      "cell_type": "code",
      "execution_count": 13,
      "id": "cbf5e55a",
      "metadata": {
        "colab": {
          "base_uri": "https://localhost:8080/"
        },
        "id": "cbf5e55a",
        "outputId": "2078c65f-73d8-42cf-8b7c-7b686db1e51c"
      },
      "outputs": [
        {
          "output_type": "stream",
          "name": "stdout",
          "text": [
            "\u001b[92m✔ Well done! You have successfully sorted the list 'usernames'.\n"
          ]
        }
      ],
      "source": [
        "#@title #### Run this cell to check your code { display-mode: \"form\", run: \"auto\" }\n",
        "\n",
        "assert \"usernames\" in globals(), \"The variable 'usernames' does not exist. Please, rerun the cell in step 1 to create the variable 'usernames'.\"\n",
        "\n",
        "marking_system.check_step_5(usernames)\n"
      ]
    },
    {
      "cell_type": "markdown",
      "id": "14c77ef2",
      "metadata": {
        "id": "14c77ef2"
      },
      "source": [
        "#### 8. Using the `index()` method, make the list entry corresponding to `user_example` uppercase.\n",
        "\n",
        "For example, if `user_example` is `user123user`, the code should return `USER123USER`.\n",
        "\n",
        "First, create a variable called `idx_user_example` and assign it the index of `user_example` in the list.\n",
        "\n",
        "Then, retrieve the element at the index `idx_user_example`, uppercase it, and assign it to the variable `upper_user_example`.\n",
        "\n",
        "Finally, replace the element at the index `idx_user_example` with `upper_user_example`."
      ]
    },
    {
      "cell_type": "code",
      "execution_count": 15,
      "id": "4c69927b",
      "metadata": {
        "id": "4c69927b"
      },
      "outputs": [],
      "source": [
        "# TODO - Using the `index()` method, find the index of `user_example` in `usernames` and assign it to a variable called `idx_user_example`.\n",
        "idx_user_example = usernames.index(user_example)\n",
        "# TODO - Using the index of `user_example`, retrieve the corresponding element from `usernames`, convert it to uppercase and assign it to a variable called `upper_user_example`.\n",
        "upper_user_example = usernames[idx_user_example].upper()\n",
        "# TODO - Using the index of `user_example`, replace the corresponding element in `usernames` with `upper_user_example`.\n",
        "usernames[idx_user_example] = upper_user_example"
      ]
    },
    {
      "cell_type": "code",
      "execution_count": 16,
      "id": "522f751c",
      "metadata": {
        "colab": {
          "base_uri": "https://localhost:8080/"
        },
        "id": "522f751c",
        "outputId": "7d30fe7b-f625-409a-c306-ad718e6c98b2"
      },
      "outputs": [
        {
          "output_type": "stream",
          "name": "stdout",
          "text": [
            "\u001b[92m✔ Well done! You have successfully replaced the element in the list 'usernames' with the upper case version.\n"
          ]
        }
      ],
      "source": [
        "#@title #### Run this cell to check your code { display-mode: \"form\", run: \"auto\" }\n",
        "\n",
        "assert \"idx_user_example\" in globals(), \"The variable 'idx_user_example' does not exist. Please, make sure you have defined it\"\n",
        "assert \"upper_user_example\" in globals(), \"The variable 'upper_user_example' does not exist. Please, make sure you have defined it\"\n",
        "assert \"usernames\" in globals(), \"The variable 'usernames' does not exist. Run the cell in step 1 to create the variable 'usernames'.\"\n",
        "\n",
        "marking_system.check_step_6(usernames, idx_user_example, upper_user_example)\n"
      ]
    }
  ],
  "metadata": {
    "kernelspec": {
      "display_name": "content-projects_new",
      "language": "python",
      "name": "python3"
    },
    "language_info": {
      "codemirror_mode": {
        "name": "ipython",
        "version": 3
      },
      "file_extension": ".py",
      "mimetype": "text/x-python",
      "name": "python",
      "nbconvert_exporter": "python",
      "pygments_lexer": "ipython3",
      "version": "3.10.8"
    },
    "vscode": {
      "interpreter": {
        "hash": "4b961f8166aad6ccb4cf65d0f9c742ef9c6c23ffe83ad932438cd83ed96aebaf"
      }
    },
    "colab": {
      "provenance": [],
      "include_colab_link": true
    }
  },
  "nbformat": 4,
  "nbformat_minor": 5
}
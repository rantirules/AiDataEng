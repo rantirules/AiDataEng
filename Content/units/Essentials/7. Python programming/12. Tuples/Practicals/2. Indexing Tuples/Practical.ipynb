{
  "cells": [
    {
      "cell_type": "markdown",
      "metadata": {
        "id": "view-in-github",
        "colab_type": "text"
      },
      "source": [
        "<a href=\"https://colab.research.google.com/github/rantirules/AiDataEng/blob/main/Content/units/Essentials/7.%20Python%20programming/12.%20Tuples/Practicals/2.%20Indexing%20Tuples/Practical.ipynb\" target=\"_parent\"><img src=\"https://colab.research.google.com/assets/colab-badge.svg\" alt=\"Open In Colab\"/></a>"
      ]
    },
    {
      "cell_type": "markdown",
      "id": "545b630a",
      "metadata": {
        "id": "545b630a"
      },
      "source": [
        "# Indexing Tuples"
      ]
    },
    {
      "cell_type": "code",
      "execution_count": 1,
      "id": "5b0b46ec",
      "metadata": {
        "id": "5b0b46ec",
        "outputId": "0f0d22e1-4959-4a5b-e58d-d5b862891455",
        "colab": {
          "base_uri": "https://localhost:8080/"
        }
      },
      "outputs": [
        {
          "output_type": "stream",
          "name": "stdout",
          "text": [
            "Downloading the marking system\n"
          ]
        }
      ],
      "source": [
        "#@title ### Run the following cell to download the necessary files for this practical { display-mode: \"form\" }\n",
        "#@markdown Don't worry about what's in this collapsed cell\n",
        "\n",
        "print('Downloading the marking system')\n",
        "!wget https://s3-eu-west-1.amazonaws.com/aicore-portal-public-prod-307050600709/practical_files/25cde45f-b3bc-44c7-aef2-2d6b553186e8/marking_system.py -q -O marking_system.py\n",
        "import marking_system\n",
        "import importlib\n",
        "importlib.reload(marking_system)\n",
        "import sys\n",
        "ipython = get_ipython()\n",
        "def hide_traceback(exc_tuple=None, filename=None, tb_offset=None, exception_only=False, running_compiled_code=False):\n",
        "    etype, value, tb = sys.exc_info()\n",
        "    value.__cause__ = None  # suppress chained exceptions\n",
        "    return ipython._showtraceback(etype, \"❌ \" + f\"\u001b[91m{value}\", ipython.InteractiveTB.get_exception_only(etype, \"❌ \" + f\"\u001b[91m{value}\"))\n",
        "ipython.showtraceback = hide_traceback\n"
      ]
    },
    {
      "cell_type": "markdown",
      "id": "ffde8a93",
      "metadata": {
        "id": "ffde8a93"
      },
      "source": [
        "### Given the following tuple"
      ]
    },
    {
      "cell_type": "code",
      "execution_count": 2,
      "id": "f39d26ef",
      "metadata": {
        "id": "f39d26ef"
      },
      "outputs": [],
      "source": [
        "vowels = ('a', 'e', 'i', 'o', 'i', 'u')\n"
      ]
    },
    {
      "cell_type": "markdown",
      "id": "4e9c7de7",
      "metadata": {
        "id": "4e9c7de7"
      },
      "source": [
        "### 1. Find the first occurrence of `e` element and assign it to a variable called `first_e`\n",
        "\n",
        "_Hint: Use the `index()` method_"
      ]
    },
    {
      "cell_type": "code",
      "execution_count": 6,
      "id": "a4252213",
      "metadata": {
        "id": "a4252213",
        "outputId": "d8c88b40-bc78-4b5f-92a0-354cad167ca6",
        "colab": {
          "base_uri": "https://localhost:8080/"
        }
      },
      "outputs": [
        {
          "output_type": "execute_result",
          "data": {
            "text/plain": [
              "1"
            ]
          },
          "metadata": {},
          "execution_count": 6
        }
      ],
      "source": [
        "# TODO - find the index of the first 'e' in the tuple\n",
        "first_e = vowels.index('e')\n",
        "first_e"
      ]
    },
    {
      "cell_type": "code",
      "execution_count": 7,
      "id": "a6cf9cae",
      "metadata": {
        "id": "a6cf9cae",
        "outputId": "6f8f08e2-7cb2-49bb-ceb0-b58d14e3aec3",
        "colab": {
          "base_uri": "https://localhost:8080/"
        }
      },
      "outputs": [
        {
          "output_type": "stream",
          "name": "stdout",
          "text": [
            "\u001b[92m✔ Well done! The 'index()' method is used to find the index of an element in a tuple. Remember that the index of the first element in a tuple is 0.\n"
          ]
        }
      ],
      "source": [
        "#@title #### Run this cell to check your answer { display-mode: \"form\", run: \"auto\" }\n",
        "\n",
        "assert \"first_e\" in globals(), \"You need to define the variable 'first_e'.\"\n",
        "marking_system.check_step_1(first_e)\n"
      ]
    },
    {
      "cell_type": "markdown",
      "id": "ccf5eb31",
      "metadata": {
        "id": "ccf5eb31"
      },
      "source": [
        "### 2. Find the first occurrence of `i` element.\n",
        "\n",
        "Assign it to a variable called `first_i`"
      ]
    },
    {
      "cell_type": "code",
      "execution_count": 8,
      "id": "daf5edee",
      "metadata": {
        "id": "daf5edee",
        "outputId": "1585b6e3-216f-4ef4-886b-e18caf410e51",
        "colab": {
          "base_uri": "https://localhost:8080/"
        }
      },
      "outputs": [
        {
          "output_type": "execute_result",
          "data": {
            "text/plain": [
              "2"
            ]
          },
          "metadata": {},
          "execution_count": 8
        }
      ],
      "source": [
        "# TODO - find the index of the first 'i' in the tuple\n",
        "first_i = vowels.index('i')\n",
        "first_i"
      ]
    },
    {
      "cell_type": "code",
      "execution_count": 9,
      "id": "7df663be",
      "metadata": {
        "id": "7df663be",
        "outputId": "a3241017-3007-4c4a-b9c2-3f6f9871e4c7",
        "colab": {
          "base_uri": "https://localhost:8080/"
        }
      },
      "outputs": [
        {
          "output_type": "stream",
          "name": "stdout",
          "text": [
            "\u001b[92m✔ Well done! Notice that the index method just returns the index of the first 'i' in the tuple, even though there might be more than one 'i' in the tuple.\n"
          ]
        }
      ],
      "source": [
        "#@title #### Run this cell to check your answer { display-mode: \"form\", run: \"auto\" }\n",
        "\n",
        "assert \"first_i\" in globals(), \"You need to define the variable 'first_i'.\"\n",
        "\n",
        "#@markdown How many elements does `first_i` contain?\n",
        "ans = \"1\" #@param [\"\", \"1\", \"2\", \"3\", \"4\"]\n",
        "\n",
        "marking_system.check_step_2(first_i, ans)\n"
      ]
    },
    {
      "cell_type": "markdown",
      "id": "7cedae76",
      "metadata": {
        "id": "7cedae76"
      },
      "source": [
        "### 3. Find the first occurrence of `b` element. What does this return? What is the meaning of this error?"
      ]
    },
    {
      "cell_type": "code",
      "execution_count": 10,
      "id": "6b5249e6",
      "metadata": {
        "id": "6b5249e6",
        "outputId": "90350ee8-0b87-4d37-faf0-c6c9c023106d",
        "colab": {
          "base_uri": "https://localhost:8080/",
          "height": 89
        }
      },
      "outputs": [
        {
          "output_type": "error",
          "ename": "ValueError",
          "evalue": "ignored",
          "traceback": [
            "\u001b[0;31mValueError\u001b[0m\u001b[0;31m:\u001b[0m ❌ \u001b[91mtuple.index(x): x not in tuple\n"
          ]
        }
      ],
      "source": [
        "# TODO - Try to find the index of 'b' in the tuple\n",
        "vowels.index('b')"
      ]
    },
    {
      "cell_type": "code",
      "execution_count": 11,
      "id": "7bd16f5d",
      "metadata": {
        "id": "7bd16f5d",
        "outputId": "7312de4c-5289-4cca-fd3e-d21ee3593350",
        "colab": {
          "base_uri": "https://localhost:8080/"
        }
      },
      "outputs": [
        {
          "output_type": "stream",
          "name": "stdout",
          "text": [
            "\u001b[92m✔ Well done! The 'index()' method will return a ValueError if the element is not in the tuple.\n"
          ]
        }
      ],
      "source": [
        "#@title #### Run this cell to check your answer { display-mode: \"form\", run: \"auto\" }\n",
        "\n",
        "#@markdown What message do you get?\n",
        "ans = \"ValueError: tuple.index(x): x not in tuple\" #@param [\"\", \"No message\", \"IndexError: tuple.index(x): x not in tuple\", \"ValueError: tuple.index(x): x not in tuple\", \"TypeError: tuple.index(x): x not in tuple\"]\n",
        "\n",
        "marking_system.check_step_3(ans)\n"
      ]
    },
    {
      "cell_type": "markdown",
      "id": "21d25008",
      "metadata": {
        "id": "21d25008"
      },
      "source": [
        "### 4. Find the first occurrence of `i` elements starting from index 4."
      ]
    },
    {
      "cell_type": "code",
      "execution_count": 12,
      "id": "5c24300f",
      "metadata": {
        "id": "5c24300f"
      },
      "outputs": [],
      "source": [
        "letters_tuple = ('a', 'e', 'i', 'o', 'u', 'g', 'l', 'm', 'n', 'p', 'r', 's', 't', 'i', 'v', 'w', 'y')\n"
      ]
    },
    {
      "cell_type": "code",
      "execution_count": 16,
      "id": "e516175e",
      "metadata": {
        "id": "e516175e",
        "outputId": "3d1471cb-b623-48bd-d49e-b51061b46aba",
        "colab": {
          "base_uri": "https://localhost:8080/"
        }
      },
      "outputs": [
        {
          "output_type": "execute_result",
          "data": {
            "text/plain": [
              "13"
            ]
          },
          "metadata": {},
          "execution_count": 16
        }
      ],
      "source": [
        "# TODO - find the index of the first 'i' in the tuple after index 4\n",
        "letters_tuple.index('i', 4)"
      ]
    },
    {
      "cell_type": "code",
      "execution_count": 18,
      "id": "e5b0ce86",
      "metadata": {
        "id": "e5b0ce86",
        "outputId": "edc2874c-3c20-40d4-e498-bdbe1424b6e1",
        "colab": {
          "base_uri": "https://localhost:8080/"
        }
      },
      "outputs": [
        {
          "output_type": "stream",
          "name": "stdout",
          "text": [
            "\u001b[92m✔ Well done! You can specify the index to start searching from, so in this case the 'index()' method will return the index of the first 'i' after index 4.\n"
          ]
        }
      ],
      "source": [
        "#@title #### Enter your answer here { display-mode: \"form\", run: \"auto\" }\n",
        "\n",
        "#@markdown What is the index of the 'i' character starting from index 4?\n",
        "ans = \"13\" #@param [\"\", \"4\", \"5\", \"6\", \"7\", \"8\", \"9\", \"10\", \"11\", \"12\", \"13\", \"14\", \"15\"]\n",
        "\n",
        "marking_system.check_step_4(ans)\n"
      ]
    }
  ],
  "metadata": {
    "kernelspec": {
      "display_name": "content-projects_new",
      "language": "python",
      "name": "python3"
    },
    "language_info": {
      "codemirror_mode": {
        "name": "ipython",
        "version": 3
      },
      "file_extension": ".py",
      "mimetype": "text/x-python",
      "name": "python",
      "nbconvert_exporter": "python",
      "pygments_lexer": "ipython3",
      "version": "3.10.8"
    },
    "vscode": {
      "interpreter": {
        "hash": "4b961f8166aad6ccb4cf65d0f9c742ef9c6c23ffe83ad932438cd83ed96aebaf"
      }
    },
    "colab": {
      "provenance": [],
      "include_colab_link": true
    }
  },
  "nbformat": 4,
  "nbformat_minor": 5
}
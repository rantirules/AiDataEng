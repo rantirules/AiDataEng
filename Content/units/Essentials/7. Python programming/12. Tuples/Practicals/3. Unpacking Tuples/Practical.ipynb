{
  "cells": [
    {
      "cell_type": "markdown",
      "metadata": {
        "id": "view-in-github",
        "colab_type": "text"
      },
      "source": [
        "<a href=\"https://colab.research.google.com/github/rantirules/AiDataEng/blob/main/Content/units/Essentials/7.%20Python%20programming/12.%20Tuples/Practicals/3.%20Unpacking%20Tuples/Practical.ipynb\" target=\"_parent\"><img src=\"https://colab.research.google.com/assets/colab-badge.svg\" alt=\"Open In Colab\"/></a>"
      ]
    },
    {
      "cell_type": "markdown",
      "id": "5a0cf04f",
      "metadata": {
        "id": "5a0cf04f"
      },
      "source": [
        "# Unpacking Tuples"
      ]
    },
    {
      "cell_type": "code",
      "execution_count": 1,
      "id": "a547c746",
      "metadata": {
        "id": "a547c746",
        "outputId": "a03310a4-3f06-44a0-f132-e4abb18e41b4",
        "colab": {
          "base_uri": "https://localhost:8080/"
        }
      },
      "outputs": [
        {
          "output_type": "stream",
          "name": "stdout",
          "text": [
            "Downloading the marking system\n"
          ]
        }
      ],
      "source": [
        "#@title ### Run the following cell to download the necessary files for this practical { display-mode: \"form\" }\n",
        "#@markdown Don't worry about what's in this collapsed cell\n",
        "\n",
        "print('Downloading the marking system')\n",
        "!wget https://s3-eu-west-1.amazonaws.com/aicore-portal-public-prod-307050600709/practical_files/f00eba2c-1e4f-4ed9-9388-0fc656b09364/marking_system.py -q -O marking_system.py\n",
        "import marking_system\n",
        "import importlib\n",
        "importlib.reload(marking_system)\n",
        "import sys\n",
        "ipython = get_ipython()\n",
        "def hide_traceback(exc_tuple=None, filename=None, tb_offset=None, exception_only=False, running_compiled_code=False):\n",
        "    etype, value, tb = sys.exc_info()\n",
        "    value.__cause__ = None  # suppress chained exceptions\n",
        "    return ipython._showtraceback(etype, \"❌ \" + f\"\u001b[91m{value}\", ipython.InteractiveTB.get_exception_only(etype, \"❌ \" + f\"\u001b[91m{value}\"))\n",
        "ipython.showtraceback = hide_traceback\n"
      ]
    },
    {
      "cell_type": "markdown",
      "id": "8176477f",
      "metadata": {
        "id": "8176477f"
      },
      "source": [
        "### Given the following tuple:"
      ]
    },
    {
      "cell_type": "code",
      "execution_count": 2,
      "id": "7dfd1f98",
      "metadata": {
        "id": "7dfd1f98"
      },
      "outputs": [],
      "source": [
        "my_tuple = (70, \"AiCore\", 10, \"Programming\", 70)\n"
      ]
    },
    {
      "cell_type": "markdown",
      "id": "6cfb0457",
      "metadata": {
        "id": "6cfb0457"
      },
      "source": [
        "### If we unpack it using:\n",
        "    \n",
        "```python\n",
        "x, *y, z = my_tuple\n",
        "```\n",
        "What are the values of `x`, `y` and `z`?"
      ]
    },
    {
      "cell_type": "code",
      "execution_count": 3,
      "id": "898f982c",
      "metadata": {
        "id": "898f982c",
        "outputId": "82dbe9d8-0cb2-4921-d033-445c6203d6e0",
        "colab": {
          "base_uri": "https://localhost:8080/"
        }
      },
      "outputs": [
        {
          "output_type": "stream",
          "name": "stdout",
          "text": [
            "\u001b[92m✔ Well done! You can use the '*' operator to unpack the extra elements of a tuple into a list.\n"
          ]
        }
      ],
      "source": [
        "#@title #### Enter your answer here { display-mode: \"form\", run: \"auto\" }\n",
        "\n",
        "#@markdown What is the value of `x`?\n",
        "ans_x = \"70\" #@param [\"\", \"70\", \"[70]\", \"[70, 'AiCore']\", \"AiCore\", \"['AiCore', 10, 'Programming']\", \"['Programming', 70]\"]\n",
        "#@markdown What is the value of `y`?\n",
        "ans_y = \"['AiCore', 10, 'Programming']\" #@param [\"\", \"70\", \"[70]\", \"[70, 'AiCore']\", \"AiCore\", \"['AiCore', 10, 'Programming']\", \"['Programming', 70]\"]\n",
        "#@markdown What is the value of `z`?\n",
        "ans_z = \"70\" #@param [\"\", \"70\", \"[70]\", \"[70, 'AiCore']\", \"AiCore\", \"['AiCore', 10, 'Programming']\", \"['Programming', 70]\"]\n",
        "\n",
        "marking_system.check_step_2(ans_x, ans_y, ans_z, my_tuple)\n"
      ]
    },
    {
      "cell_type": "markdown",
      "id": "2b699e75",
      "metadata": {
        "id": "2b699e75"
      },
      "source": [
        "### What if we unpack it using:\n",
        "    \n",
        "```python\n",
        "x, y, *z = my_tuple\n",
        "```\n",
        "What are the values of `x`, `y` and `z`?"
      ]
    },
    {
      "cell_type": "code",
      "execution_count": 4,
      "id": "3c74deb8",
      "metadata": {
        "id": "3c74deb8",
        "outputId": "4578acd6-e834-4d8f-f4e6-9724073a1f85",
        "colab": {
          "base_uri": "https://localhost:8080/"
        }
      },
      "outputs": [
        {
          "output_type": "stream",
          "name": "stdout",
          "text": [
            "\u001b[92m✔ Well done! Depending on the position of the '*' operator, you can unpack the extra elements of a tuple into a list.\n"
          ]
        }
      ],
      "source": [
        "#@title #### Enter your answer here { display-mode: \"form\", run: \"auto\" }\n",
        "\n",
        "#@markdown What is the value of `x`?\n",
        "ans_x = \"70\" #@param [\"\", \"70\", \"[70]\", \"[70, 'AiCore']\", \"AiCore\", \"['AiCore', 10, 'Programming']\", \"['Programming', 70]\", \"[10, 'Programming', 70]\"]\n",
        "#@markdown What is the value of `y`?\n",
        "ans_y = \"AiCore\" #@param [\"\", \"70\", \"[70]\", \"[70, 'AiCore']\", \"AiCore\", \"['AiCore', 10, 'Programming']\", \"['Programming', 70]\", \"[10, 'Programming', 70]\"]\n",
        "#@markdown What is the value of `z`?\n",
        "ans_z = \"[10, 'Programming', 70]\" #@param [\"\", \"70\", \"[70]\", \"[70, 'AiCore']\", \"AiCore\", \"['AiCore', 10, 'Programming']\", \"['Programming', 70]\", \"[10, 'Programming', 70]\"]\n",
        "\n",
        "marking_system.check_step_3(ans_x, ans_y, ans_z, my_tuple)\n"
      ]
    }
  ],
  "metadata": {
    "kernelspec": {
      "display_name": "content-projects_new",
      "language": "python",
      "name": "python3"
    },
    "language_info": {
      "codemirror_mode": {
        "name": "ipython",
        "version": 3
      },
      "file_extension": ".py",
      "mimetype": "text/x-python",
      "name": "python",
      "nbconvert_exporter": "python",
      "pygments_lexer": "ipython3",
      "version": "3.10.8"
    },
    "vscode": {
      "interpreter": {
        "hash": "4b961f8166aad6ccb4cf65d0f9c742ef9c6c23ffe83ad932438cd83ed96aebaf"
      }
    },
    "colab": {
      "provenance": [],
      "include_colab_link": true
    }
  },
  "nbformat": 4,
  "nbformat_minor": 5
}